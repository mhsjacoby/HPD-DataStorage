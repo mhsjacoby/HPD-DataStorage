{
 "cells": [
  {
   "cell_type": "code",
   "execution_count": 1,
   "metadata": {},
   "outputs": [],
   "source": [
    "import os\n",
    "import sys\n",
    "import csv\n",
    "import json\n",
    "import shutil\n",
    "from glob import glob\n",
    "import pandas as pd\n",
    "from datetime import datetime\n",
    "\n",
    "from my_functions import *\n"
   ]
  },
  {
   "cell_type": "markdown",
   "metadata": {},
   "source": [
    "#### Create dictionaries with days to include for each home"
   ]
  },
  {
   "cell_type": "code",
   "execution_count": 2,
   "metadata": {},
   "outputs": [],
   "source": [
    "start_end_dict = {\n",
    "    'H1': [['2019-11-26',' 2019-12-25']], \n",
    "    'H2': [['2019-03-13', '2019-03-29']], \n",
    "    'H3': [['2019-07-23', '2019-08-04'], ['2019-08-15', '2019-09-05']], \n",
    "    'H4': [['2019-05-01', '2019-05-12'], ['2019-05-17', '2019-05-21']],\n",
    "    'H5': [['2019-06-07', '2019-06-21']],\n",
    "    'H6': [['2019-10-12', '2019-11-02'], ['2019-11-20', '2019-12-05']]}"
   ]
  },
  {
   "cell_type": "code",
   "execution_count": 3,
   "metadata": {},
   "outputs": [
    {
     "name": "stdout",
     "output_type": "stream",
     "text": [
      "H1 30\n",
      "H2 17\n",
      "H3 35\n",
      "H4 17\n",
      "H5 15\n",
      "H6 38\n"
     ]
    }
   ],
   "source": [
    "all_days_dict = {}\n",
    "\n",
    "for home in start_end_dict:\n",
    "    home_st = start_end_dict[home]\n",
    "    all_days = []\n",
    "\n",
    "    for st in home_st:\n",
    "        start, end = st[0], st[1]\n",
    "        pd_days = pd.date_range(start=start, end=end).tolist()\n",
    "        days = [d.strftime('%Y-%m-%d') for d in pd_days]\n",
    "        all_days.extend(days)\n",
    "        \n",
    "    all_days_dict[home] = all_days\n",
    "\n",
    "for h in all_days_dict:\n",
    "    print(h, len(all_days_dict[h]))"
   ]
  },
  {
   "cell_type": "markdown",
   "metadata": {},
   "source": [
    "***\n",
    "## Whole sheet inputs"
   ]
  },
  {
   "cell_type": "code",
   "execution_count": 4,
   "metadata": {},
   "outputs": [],
   "source": [
    "save_path = '/Users/maggie/Desktop/HDstorage'\n",
    "dest = '/Volumes/SAMSUNG-4/'"
   ]
  },
  {
   "cell_type": "code",
   "execution_count": 6,
   "metadata": {},
   "outputs": [
    {
     "name": "stdout",
     "output_type": "stream",
     "text": [
      "H3\n",
      "/Volumes/TOSHIBA-13/H3-red/RS1\n",
      "/Volumes/TOSHIBA-13/H3-red/RS2\n",
      "/Volumes/TOSHIBA-13/H3-red/RS3\n",
      "/Volumes/TOSHIBA-13/H3-red/RS4\n",
      "/Volumes/TOSHIBA-13/H3-red/RS5\n"
     ]
    }
   ],
   "source": [
    "from_path = '/Volumes/TOSHIBA-13/H3-red/'\n",
    "\n",
    "home, c = os.path.basename(from_path.strip('/')).split('-')\n",
    "color = c[0].upper()\n",
    "\n",
    "hub_paths = glob(os.path.join(from_path, f'{color}S*'))\n",
    "\n",
    "print(home)\n",
    "for hub in hub_paths:\n",
    "    print(hub)"
   ]
  },
  {
   "cell_type": "markdown",
   "metadata": {},
   "source": [
    "***\n",
    "## Dark Image Lists\n",
    "should be in form: \n",
    "`HOME_DARKIMAGES.zip/HOME_HUB_DARKIMAGES/date_hub_home_dark-images.csv`"
   ]
  },
  {
   "cell_type": "markdown",
   "metadata": {},
   "source": [
    "#### Rewrite Dark image JSON files to csvs and rename storage directories"
   ]
  },
  {
   "cell_type": "code",
   "execution_count": 8,
   "metadata": {},
   "outputs": [
    {
     "name": "stdout",
     "output_type": "stream",
     "text": [
      "RS1\n",
      "/Users/maggie/Desktop/HDstorage/H3/H3_DARKIMAGES/H3_RS1_DARKIMAGES\n",
      "RS2\n",
      "/Users/maggie/Desktop/HDstorage/H3/H3_DARKIMAGES/H3_RS2_DARKIMAGES\n",
      "RS3\n",
      "/Users/maggie/Desktop/HDstorage/H3/H3_DARKIMAGES/H3_RS3_DARKIMAGES\n",
      "RS4\n",
      "/Users/maggie/Desktop/HDstorage/H3/H3_DARKIMAGES/H3_RS4_DARKIMAGES\n",
      "RS5\n",
      "/Users/maggie/Desktop/HDstorage/H3/H3_DARKIMAGES/H3_RS5_DARKIMAGES\n"
     ]
    }
   ],
   "source": [
    "save_loc = make_storage_directory(os.path.join(save_path, home, f'{home}_DARKIMAGES'))\n",
    "\n",
    "\n",
    "for hub_path in hub_paths:\n",
    "    hub = os.path.basename(hub_path.strip('/'))\n",
    "    print(hub)\n",
    "    save_dirname = f'{home}_{hub}_DARKIMAGES'\n",
    "    print(os.path.join(save_loc, save_dirname))\n",
    "    \n",
    "    save_hub_dir = make_storage_directory(os.path.join(save_loc, save_dirname))\n",
    "    for json_file in glob(os.path.join(hub_path, '*-img-pkl', 'black_image_dicts', '*.json')):\n",
    "        day = os.path.basename(json_file).strip('_dark_images.json')\n",
    "        with open(json_file) as json_file:\n",
    "            data = json.load(json_file)\n",
    "            times = []\n",
    "            for key in data:\n",
    "                times.extend(data[key])\n",
    "        timestamps = sorted([datetime.strptime(f'{day} {time}', '%Y-%m-%d %H%M%S') for time in times])\n",
    "        timestamps = [[ts] for ts in timestamps]\n",
    "\n",
    "        csv_file = os.path.join(save_hub_dir, f'{day}_{hub}_{home}_darkimages.csv')\n",
    "        write_file = open(csv_file, 'w+')\n",
    "        with write_file:\n",
    "            csv_writer = csv.writer(write_file)\n",
    "            csv_writer.writerows(timestamps)"
   ]
  },
  {
   "cell_type": "code",
   "execution_count": 9,
   "metadata": {},
   "outputs": [],
   "source": [
    "def delete_days(home_path, modality_path, delete=False):\n",
    "    for hub_dir in sorted(glob(os.path.join(home_path, modality_path))):\n",
    "        print(hub_dir)\n",
    "        files = glob(os.path.join(hub_dir, '*_darkimages.csv'))\n",
    "        del_files = [f for f in files if os.path.basename(f).split('_')[0] not in all_days_dict[home]]\n",
    "        if delete:\n",
    "            for file_to_delete in sorted(del_files):\n",
    "                os.remove(file_to_delete)\n",
    "                print('deleted:', file_to_delete)\n",
    "        else:\n",
    "            print('Testing (nothing deleted)')\n",
    "            for file_to_delete in sorted(del_files):\n",
    "                print(file_to_delete)\n",
    "\n"
   ]
  },
  {
   "cell_type": "code",
   "execution_count": 11,
   "metadata": {
    "collapsed": true,
    "jupyter": {
     "outputs_hidden": true
    }
   },
   "outputs": [
    {
     "name": "stdout",
     "output_type": "stream",
     "text": [
      "/Users/maggie/Desktop/HDstorage/H3/H3_DARKIMAGES/H3_RS1_DARKIMAGES\n",
      "deleted: /Users/maggie/Desktop/HDstorage/H3/H3_DARKIMAGES/H3_RS1_DARKIMAGES/2019-07-16_RS1_H3_darkimages.csv\n",
      "deleted: /Users/maggie/Desktop/HDstorage/H3/H3_DARKIMAGES/H3_RS1_DARKIMAGES/2019-07-17_RS1_H3_darkimages.csv\n",
      "deleted: /Users/maggie/Desktop/HDstorage/H3/H3_DARKIMAGES/H3_RS1_DARKIMAGES/2019-07-18_RS1_H3_darkimages.csv\n",
      "deleted: /Users/maggie/Desktop/HDstorage/H3/H3_DARKIMAGES/H3_RS1_DARKIMAGES/2019-07-19_RS1_H3_darkimages.csv\n",
      "deleted: /Users/maggie/Desktop/HDstorage/H3/H3_DARKIMAGES/H3_RS1_DARKIMAGES/2019-07-20_RS1_H3_darkimages.csv\n",
      "deleted: /Users/maggie/Desktop/HDstorage/H3/H3_DARKIMAGES/H3_RS1_DARKIMAGES/2019-07-21_RS1_H3_darkimages.csv\n",
      "deleted: /Users/maggie/Desktop/HDstorage/H3/H3_DARKIMAGES/H3_RS1_DARKIMAGES/2019-07-22_RS1_H3_darkimages.csv\n",
      "deleted: /Users/maggie/Desktop/HDstorage/H3/H3_DARKIMAGES/H3_RS1_DARKIMAGES/2019-08-05_RS1_H3_darkimages.csv\n",
      "deleted: /Users/maggie/Desktop/HDstorage/H3/H3_DARKIMAGES/H3_RS1_DARKIMAGES/2019-08-12_RS1_H3_darkimages.csv\n",
      "deleted: /Users/maggie/Desktop/HDstorage/H3/H3_DARKIMAGES/H3_RS1_DARKIMAGES/2019-08-14_RS1_H3_darkimages.csv\n",
      "deleted: /Users/maggie/Desktop/HDstorage/H3/H3_DARKIMAGES/H3_RS1_DARKIMAGES/2019-09-06_RS1_H3_darkimages.csv\n",
      "/Users/maggie/Desktop/HDstorage/H3/H3_DARKIMAGES/H3_RS2_DARKIMAGES\n",
      "deleted: /Users/maggie/Desktop/HDstorage/H3/H3_DARKIMAGES/H3_RS2_DARKIMAGES/2019-07-16_RS2_H3_darkimages.csv\n",
      "deleted: /Users/maggie/Desktop/HDstorage/H3/H3_DARKIMAGES/H3_RS2_DARKIMAGES/2019-07-17_RS2_H3_darkimages.csv\n",
      "deleted: /Users/maggie/Desktop/HDstorage/H3/H3_DARKIMAGES/H3_RS2_DARKIMAGES/2019-07-18_RS2_H3_darkimages.csv\n",
      "deleted: /Users/maggie/Desktop/HDstorage/H3/H3_DARKIMAGES/H3_RS2_DARKIMAGES/2019-07-19_RS2_H3_darkimages.csv\n",
      "deleted: /Users/maggie/Desktop/HDstorage/H3/H3_DARKIMAGES/H3_RS2_DARKIMAGES/2019-07-20_RS2_H3_darkimages.csv\n",
      "deleted: /Users/maggie/Desktop/HDstorage/H3/H3_DARKIMAGES/H3_RS2_DARKIMAGES/2019-07-21_RS2_H3_darkimages.csv\n",
      "deleted: /Users/maggie/Desktop/HDstorage/H3/H3_DARKIMAGES/H3_RS2_DARKIMAGES/2019-07-22_RS2_H3_darkimages.csv\n",
      "deleted: /Users/maggie/Desktop/HDstorage/H3/H3_DARKIMAGES/H3_RS2_DARKIMAGES/2019-08-05_RS2_H3_darkimages.csv\n",
      "deleted: /Users/maggie/Desktop/HDstorage/H3/H3_DARKIMAGES/H3_RS2_DARKIMAGES/2019-08-12_RS2_H3_darkimages.csv\n",
      "deleted: /Users/maggie/Desktop/HDstorage/H3/H3_DARKIMAGES/H3_RS2_DARKIMAGES/2019-08-14_RS2_H3_darkimages.csv\n",
      "deleted: /Users/maggie/Desktop/HDstorage/H3/H3_DARKIMAGES/H3_RS2_DARKIMAGES/2019-09-06_RS2_H3_darkimages.csv\n",
      "/Users/maggie/Desktop/HDstorage/H3/H3_DARKIMAGES/H3_RS3_DARKIMAGES\n",
      "deleted: /Users/maggie/Desktop/HDstorage/H3/H3_DARKIMAGES/H3_RS3_DARKIMAGES/2019-07-16_RS3_H3_darkimages.csv\n",
      "deleted: /Users/maggie/Desktop/HDstorage/H3/H3_DARKIMAGES/H3_RS3_DARKIMAGES/2019-07-22_RS3_H3_darkimages.csv\n",
      "deleted: /Users/maggie/Desktop/HDstorage/H3/H3_DARKIMAGES/H3_RS3_DARKIMAGES/2019-08-05_RS3_H3_darkimages.csv\n",
      "deleted: /Users/maggie/Desktop/HDstorage/H3/H3_DARKIMAGES/H3_RS3_DARKIMAGES/2019-08-12_RS3_H3_darkimages.csv\n",
      "deleted: /Users/maggie/Desktop/HDstorage/H3/H3_DARKIMAGES/H3_RS3_DARKIMAGES/2019-08-14_RS3_H3_darkimages.csv\n",
      "deleted: /Users/maggie/Desktop/HDstorage/H3/H3_DARKIMAGES/H3_RS3_DARKIMAGES/2019-09-06_RS3_H3_darkimages.csv\n",
      "/Users/maggie/Desktop/HDstorage/H3/H3_DARKIMAGES/H3_RS4_DARKIMAGES\n",
      "deleted: /Users/maggie/Desktop/HDstorage/H3/H3_DARKIMAGES/H3_RS4_DARKIMAGES/2019-06-26_RS4_H3_darkimages.csv\n",
      "deleted: /Users/maggie/Desktop/HDstorage/H3/H3_DARKIMAGES/H3_RS4_DARKIMAGES/2019-06-27_RS4_H3_darkimages.csv\n",
      "deleted: /Users/maggie/Desktop/HDstorage/H3/H3_DARKIMAGES/H3_RS4_DARKIMAGES/2019-06-28_RS4_H3_darkimages.csv\n",
      "deleted: /Users/maggie/Desktop/HDstorage/H3/H3_DARKIMAGES/H3_RS4_DARKIMAGES/2019-06-29_RS4_H3_darkimages.csv\n",
      "deleted: /Users/maggie/Desktop/HDstorage/H3/H3_DARKIMAGES/H3_RS4_DARKIMAGES/2019-06-30_RS4_H3_darkimages.csv\n",
      "deleted: /Users/maggie/Desktop/HDstorage/H3/H3_DARKIMAGES/H3_RS4_DARKIMAGES/2019-07-01_RS4_H3_darkimages.csv\n",
      "deleted: /Users/maggie/Desktop/HDstorage/H3/H3_DARKIMAGES/H3_RS4_DARKIMAGES/2019-07-16_RS4_H3_darkimages.csv\n",
      "deleted: /Users/maggie/Desktop/HDstorage/H3/H3_DARKIMAGES/H3_RS4_DARKIMAGES/2019-07-17_RS4_H3_darkimages.csv\n",
      "deleted: /Users/maggie/Desktop/HDstorage/H3/H3_DARKIMAGES/H3_RS4_DARKIMAGES/2019-07-18_RS4_H3_darkimages.csv\n",
      "deleted: /Users/maggie/Desktop/HDstorage/H3/H3_DARKIMAGES/H3_RS4_DARKIMAGES/2019-07-19_RS4_H3_darkimages.csv\n",
      "deleted: /Users/maggie/Desktop/HDstorage/H3/H3_DARKIMAGES/H3_RS4_DARKIMAGES/2019-07-20_RS4_H3_darkimages.csv\n",
      "deleted: /Users/maggie/Desktop/HDstorage/H3/H3_DARKIMAGES/H3_RS4_DARKIMAGES/2019-07-21_RS4_H3_darkimages.csv\n",
      "deleted: /Users/maggie/Desktop/HDstorage/H3/H3_DARKIMAGES/H3_RS4_DARKIMAGES/2019-07-22_RS4_H3_darkimages.csv\n",
      "deleted: /Users/maggie/Desktop/HDstorage/H3/H3_DARKIMAGES/H3_RS4_DARKIMAGES/2019-08-05_RS4_H3_darkimages.csv\n",
      "deleted: /Users/maggie/Desktop/HDstorage/H3/H3_DARKIMAGES/H3_RS4_DARKIMAGES/2019-08-12_RS4_H3_darkimages.csv\n",
      "deleted: /Users/maggie/Desktop/HDstorage/H3/H3_DARKIMAGES/H3_RS4_DARKIMAGES/2019-08-14_RS4_H3_darkimages.csv\n",
      "deleted: /Users/maggie/Desktop/HDstorage/H3/H3_DARKIMAGES/H3_RS4_DARKIMAGES/2019-09-06_RS4_H3_darkimages.csv\n",
      "/Users/maggie/Desktop/HDstorage/H3/H3_DARKIMAGES/H3_RS5_DARKIMAGES\n",
      "deleted: /Users/maggie/Desktop/HDstorage/H3/H3_DARKIMAGES/H3_RS5_DARKIMAGES/2019-06-26_RS5_H3_darkimages.csv\n",
      "deleted: /Users/maggie/Desktop/HDstorage/H3/H3_DARKIMAGES/H3_RS5_DARKIMAGES/2019-06-27_RS5_H3_darkimages.csv\n",
      "deleted: /Users/maggie/Desktop/HDstorage/H3/H3_DARKIMAGES/H3_RS5_DARKIMAGES/2019-06-28_RS5_H3_darkimages.csv\n",
      "deleted: /Users/maggie/Desktop/HDstorage/H3/H3_DARKIMAGES/H3_RS5_DARKIMAGES/2019-06-29_RS5_H3_darkimages.csv\n",
      "deleted: /Users/maggie/Desktop/HDstorage/H3/H3_DARKIMAGES/H3_RS5_DARKIMAGES/2019-06-30_RS5_H3_darkimages.csv\n",
      "deleted: /Users/maggie/Desktop/HDstorage/H3/H3_DARKIMAGES/H3_RS5_DARKIMAGES/2019-07-01_RS5_H3_darkimages.csv\n",
      "deleted: /Users/maggie/Desktop/HDstorage/H3/H3_DARKIMAGES/H3_RS5_DARKIMAGES/2019-07-16_RS5_H3_darkimages.csv\n",
      "deleted: /Users/maggie/Desktop/HDstorage/H3/H3_DARKIMAGES/H3_RS5_DARKIMAGES/2019-07-17_RS5_H3_darkimages.csv\n",
      "deleted: /Users/maggie/Desktop/HDstorage/H3/H3_DARKIMAGES/H3_RS5_DARKIMAGES/2019-07-18_RS5_H3_darkimages.csv\n",
      "deleted: /Users/maggie/Desktop/HDstorage/H3/H3_DARKIMAGES/H3_RS5_DARKIMAGES/2019-07-19_RS5_H3_darkimages.csv\n",
      "deleted: /Users/maggie/Desktop/HDstorage/H3/H3_DARKIMAGES/H3_RS5_DARKIMAGES/2019-07-20_RS5_H3_darkimages.csv\n",
      "deleted: /Users/maggie/Desktop/HDstorage/H3/H3_DARKIMAGES/H3_RS5_DARKIMAGES/2019-07-21_RS5_H3_darkimages.csv\n",
      "deleted: /Users/maggie/Desktop/HDstorage/H3/H3_DARKIMAGES/H3_RS5_DARKIMAGES/2019-07-22_RS5_H3_darkimages.csv\n",
      "deleted: /Users/maggie/Desktop/HDstorage/H3/H3_DARKIMAGES/H3_RS5_DARKIMAGES/2019-08-05_RS5_H3_darkimages.csv\n",
      "deleted: /Users/maggie/Desktop/HDstorage/H3/H3_DARKIMAGES/H3_RS5_DARKIMAGES/2019-08-12_RS5_H3_darkimages.csv\n",
      "deleted: /Users/maggie/Desktop/HDstorage/H3/H3_DARKIMAGES/H3_RS5_DARKIMAGES/2019-08-14_RS5_H3_darkimages.csv\n",
      "deleted: /Users/maggie/Desktop/HDstorage/H3/H3_DARKIMAGES/H3_RS5_DARKIMAGES/2019-09-06_RS5_H3_darkimages.csv\n"
     ]
    }
   ],
   "source": [
    "\n",
    "delete_days(os.path.join(save_path, home), modality_path = '*_DARKIMAGES/*_DARKIMAGES', delete=True)"
   ]
  },
  {
   "cell_type": "markdown",
   "metadata": {},
   "source": [
    "#### Compress dark image files to harddrive"
   ]
  },
  {
   "cell_type": "code",
   "execution_count": 13,
   "metadata": {},
   "outputs": [
    {
     "name": "stdout",
     "output_type": "stream",
     "text": [
      "from: /Users/maggie/Desktop/HDstorage/H3/H3_DARKIMAGES to: /Volumes/SAMSUNG-4/H3/H3_DARKIMAGES\n"
     ]
    },
    {
     "data": {
      "text/plain": [
       "'/Volumes/SAMSUNG-4/H3/H3_DARKIMAGES.zip'"
      ]
     },
     "execution_count": 13,
     "metadata": {},
     "output_type": "execute_result"
    }
   ],
   "source": [
    "\n",
    "directory_path = '/Users/maggie/Desktop/HDstorage'\n",
    "\n",
    "to_path = make_storage_directory(os.path.join(dest, home))\n",
    "\n",
    "to_compress = os.path.join(directory_path, home, f'{home}_DARKIMAGES')\n",
    "destination = os.path.join(to_path, os.path.basename(to_compress.strip('/')))\n",
    "\n",
    "print(f'from: {to_compress} to: {destination}')\n",
    "shutil.make_archive(destination, 'zip', to_compress)"
   ]
  },
  {
   "cell_type": "markdown",
   "metadata": {},
   "source": [
    "***\n",
    "## Images"
   ]
  },
  {
   "cell_type": "markdown",
   "metadata": {},
   "source": [
    "#### Move image day-files not part of the set to an archive folder"
   ]
  },
  {
   "cell_type": "code",
   "execution_count": 15,
   "metadata": {},
   "outputs": [
    {
     "name": "stdout",
     "output_type": "stream",
     "text": [
      "RS1 35 0\n",
      "RS2 35 0\n",
      "RS3 35 0\n",
      "RS4 35 0\n",
      "RS5 35 0\n"
     ]
    }
   ],
   "source": [
    "for hub_path in hub_paths:\n",
    "    hub = os.path.basename(hub_path.strip('/'))\n",
    "    day_files = glob(os.path.join(hub_path, 'img-downsized-32', '2019-*'))\n",
    "    move_files = [f for f in day_files if os.path.basename(f) not in all_days_dict[home]]\n",
    "    print(hub, len(day_files), len(move_files))\n",
    "#     target_dir = make_storage_directory(os.path.join(hub_path, 'img-downsized_archive'))\n",
    "    for f_to_move in move_files:\n",
    "        print(f_to_move, target_dir)\n",
    "#         shutil.move(f_to_move, target_dir)"
   ]
  },
  {
   "cell_type": "markdown",
   "metadata": {},
   "source": [
    "#### Compress image files to harddrive"
   ]
  },
  {
   "cell_type": "code",
   "execution_count": 17,
   "metadata": {},
   "outputs": [
    {
     "name": "stdout",
     "output_type": "stream",
     "text": [
      "RS1\n",
      "from: /Volumes/TOSHIBA-13/H3-red/RS1/img-downsized-32 to: /Volumes/SAMSUNG-4/H3/H3_RS1_IMAGES\n",
      "done compressing  /Volumes/SAMSUNG-4/H3/H3_RS1_IMAGES\n",
      "RS2\n",
      "from: /Volumes/TOSHIBA-13/H3-red/RS2/img-downsized-32 to: /Volumes/SAMSUNG-4/H3/H3_RS2_IMAGES\n",
      "done compressing  /Volumes/SAMSUNG-4/H3/H3_RS2_IMAGES\n",
      "RS3\n",
      "from: /Volumes/TOSHIBA-13/H3-red/RS3/img-downsized-32 to: /Volumes/SAMSUNG-4/H3/H3_RS3_IMAGES\n",
      "done compressing  /Volumes/SAMSUNG-4/H3/H3_RS3_IMAGES\n",
      "RS4\n",
      "from: /Volumes/TOSHIBA-13/H3-red/RS4/img-downsized-32 to: /Volumes/SAMSUNG-4/H3/H3_RS4_IMAGES\n",
      "done compressing  /Volumes/SAMSUNG-4/H3/H3_RS4_IMAGES\n",
      "RS5\n",
      "from: /Volumes/TOSHIBA-13/H3-red/RS5/img-downsized-32 to: /Volumes/SAMSUNG-4/H3/H3_RS5_IMAGES\n",
      "done compressing  /Volumes/SAMSUNG-4/H3/H3_RS5_IMAGES\n"
     ]
    }
   ],
   "source": [
    "for hub_path in hub_paths:\n",
    "    hub = os.path.basename(hub_path.strip('/'))\n",
    "    print(hub)\n",
    "    to_compress = os.path.join(hub_path, 'img-downsized-32')\n",
    "    destination = os.path.join(dest, home, f'{home}_{hub}_IMAGES')\n",
    "    print(f'from: {to_compress} to: {destination}')\n",
    "    shutil.make_archive(destination, 'zip', to_compress)\n",
    "    print('done compressing ', destination)"
   ]
  },
  {
   "cell_type": "markdown",
   "metadata": {},
   "source": [
    "***\n",
    "## Audio"
   ]
  },
  {
   "cell_type": "markdown",
   "metadata": {},
   "source": [
    "#### ~Move audio day-files not part of the set to an archive folder~"
   ]
  },
  {
   "cell_type": "code",
   "execution_count": 166,
   "metadata": {},
   "outputs": [
    {
     "name": "stdout",
     "output_type": "stream",
     "text": [
      "RS1 16 15\n",
      "RS2 17 17\n",
      "RS3 17 17\n",
      "RS4 17 17\n",
      "RS5 17 17\n"
     ]
    }
   ],
   "source": [
    "# for hub_path in hub_paths:\n",
    "#     hub = os.path.basename(hub_path.strip('/'))\n",
    "#     day_files = glob(os.path.join(hub_path, 'processed_audio', 'audio_csv', '2019-*'))\n",
    "#     move_files = [f for f in day_files if os.path.basename(f) in all_days_dict[home]]\n",
    "#     print(hub, len(day_files), len(move_files))\n",
    "#     target_dir = make_storage_directory(os.path.join(hub_path, 'audio_csv_archive'))\n",
    "#     for f_to_move in move_files:\n",
    "#         print(f_to_move, target_dir)\n",
    "# #         shutil.move(f_to_move, target_dir)\n",
    "# #         "
   ]
  },
  {
   "cell_type": "markdown",
   "metadata": {},
   "source": [
    "#### Combine hub-folders for audio into one folder"
   ]
  },
  {
   "cell_type": "code",
   "execution_count": 21,
   "metadata": {},
   "outputs": [
    {
     "name": "stdout",
     "output_type": "stream",
     "text": [
      "/Users/maggie/Desktop/HDstorage\n",
      "RS1 37 35\n",
      "RS2 37 35\n",
      "RS3 37 35\n",
      "RS4 37 35\n",
      "RS5 37 35\n"
     ]
    }
   ],
   "source": [
    "print(save_path)\n",
    "for hub_path in hub_paths:\n",
    "    hub = os.path.basename(hub_path.strip('/'))\n",
    "    day_dirs = glob(os.path.join(hub_path, 'processed_audio', 'audio_csv', '2019-*'))\n",
    "    copy_dirs = [d for d in day_dirs if os.path.basename(d) in all_days_dict[home]]\n",
    "    not_in_dirs = [d for d in day_dirs if os.path.basename(d) not in all_days_dict[home]]\n",
    "    print(hub, len(day_dirs), len(copy_dirs))\n",
    "#     print(not_in_dirs)\n",
    "    target_dir = make_storage_directory(os.path.join(save_path, home, f'{home}_AUDIO', f'{home}_{hub}_AUDIO'))\n",
    "    for c_dir in copy_dirs:\n",
    "        date = os.path.basename(c_dir)\n",
    "        fname = os.path.join(target_dir, date)\n",
    "        shutil.copytree(c_dir, fname)"
   ]
  },
  {
   "cell_type": "markdown",
   "metadata": {},
   "source": [
    "#### Compress audio files to harddrive"
   ]
  },
  {
   "cell_type": "code",
   "execution_count": 178,
   "metadata": {},
   "outputs": [
    {
     "name": "stdout",
     "output_type": "stream",
     "text": [
      "from: /Users/maggie/Desktop/HDstorage/H4/H4_AUDIO/H4_RS1_AUDIO to: /Volumes/SAMSUNG-4/H4/H4_AUDIO/H4_RS1_AUDIO\n"
     ]
    },
    {
     "data": {
      "text/plain": [
       "'/Volumes/SAMSUNG-4/H4/H4_AUDIO/H4_RS1_AUDIO.zip'"
      ]
     },
     "execution_count": 178,
     "metadata": {},
     "output_type": "execute_result"
    }
   ],
   "source": [
    "# # Compressing \n",
    "\n",
    "# comp_fname =  os.path.join(f'{home}_AUDIO', f'{home}_RS1_AUDIO')\n",
    "# to_compress = os.path.join(save_path, home, comp_fname)\n",
    "# destination = os.path.join(dest, home, comp_fname)\n",
    "# print(f'from: {to_compress} to: {destination}')\n",
    "# shutil.make_archive(destination, 'zip', to_compress)\n",
    "# # print('done compressing ', destination)"
   ]
  },
  {
   "cell_type": "code",
   "execution_count": 23,
   "metadata": {},
   "outputs": [
    {
     "name": "stdout",
     "output_type": "stream",
     "text": [
      "from: /Users/maggie/Desktop/HDstorage/H3/H3_AUDIO to: /Volumes/SAMSUNG-4/H3/H3_AUDIO\n"
     ]
    },
    {
     "data": {
      "text/plain": [
       "'/Volumes/SAMSUNG-4/H3/H3_AUDIO.zip'"
      ]
     },
     "execution_count": 23,
     "metadata": {},
     "output_type": "execute_result"
    }
   ],
   "source": [
    "directory_path = '/Users/maggie/Desktop/HDstorage'\n",
    "\n",
    "to_path = make_storage_directory(os.path.join(dest, home))\n",
    "\n",
    "to_compress = os.path.join(directory_path, home, f'{home}_AUDIO')\n",
    "destination = os.path.join(to_path, os.path.basename(to_compress.strip('/')))\n",
    "\n",
    "print(f'from: {to_compress} to: {destination}')\n",
    "shutil.make_archive(destination, 'zip', to_compress)"
   ]
  },
  {
   "cell_type": "markdown",
   "metadata": {},
   "source": [
    "***\n",
    "## Environmental"
   ]
  },
  {
   "cell_type": "markdown",
   "metadata": {},
   "source": [
    "#### Change name of files to match other conventions"
   ]
  },
  {
   "cell_type": "code",
   "execution_count": 24,
   "metadata": {},
   "outputs": [
    {
     "name": "stdout",
     "output_type": "stream",
     "text": [
      "RS1\n",
      "RS1 53 35\n",
      "RS2\n",
      "RS2 57 35\n",
      "RS3\n",
      "RS3 48 35\n",
      "RS4\n",
      "RS4 56 35\n",
      "RS5\n",
      "RS5 59 35\n"
     ]
    }
   ],
   "source": [
    "\n",
    "\n",
    "for hub_path in hub_paths:\n",
    "    hub = os.path.basename(hub_path.strip('/'))\n",
    "    print(hub)\n",
    "    day_files = glob(os.path.join(hub_path, 'processed_env', 'CSV-raw', '*.csv'))\n",
    "    copy_files = [f for f in day_files if os.path.basename(f).split('_')[2].rstrip('.csv') in all_days_dict[home]]\n",
    "    print(hub, len(day_files), len(copy_files))\n",
    "    target_dir = make_storage_directory(os.path.join(save_path, home, f'{home}_ENVIRONMENTAL', f'{home}_{hub}_ENV'))\n",
    "    for f in copy_files:\n",
    "        date = os.path.basename(f).split('_')[2].rstrip('.csv')\n",
    "        fname = os.path.join(target_dir, f'{date}_{hub}_{home}_env.csv')\n",
    "        shutil.copy(f, fname)\n"
   ]
  },
  {
   "cell_type": "markdown",
   "metadata": {},
   "source": [
    "#### Compress env to harddrive"
   ]
  },
  {
   "cell_type": "code",
   "execution_count": 25,
   "metadata": {},
   "outputs": [
    {
     "name": "stdout",
     "output_type": "stream",
     "text": [
      "from: /Users/maggie/Desktop/HDstorage/H3/H3_ENVIRONMENTAL to: /Volumes/SAMSUNG-4/H3/H3_ENVIRONMENTAL\n"
     ]
    },
    {
     "data": {
      "text/plain": [
       "'/Volumes/SAMSUNG-4/H3/H3_ENVIRONMENTAL.zip'"
      ]
     },
     "execution_count": 25,
     "metadata": {},
     "output_type": "execute_result"
    }
   ],
   "source": [
    "directory_path = '/Users/maggie/Desktop/HDstorage'\n",
    "\n",
    "to_path = make_storage_directory(os.path.join(dest, home))\n",
    "\n",
    "to_compress = os.path.join(directory_path, home, f'{home}_ENVIRONMENTAL')\n",
    "destination = os.path.join(to_path, os.path.basename(to_compress.strip('/')))\n",
    "\n",
    "print(f'from: {to_compress} to: {destination}')\n",
    "shutil.make_archive(destination, 'zip', to_compress)"
   ]
  },
  {
   "cell_type": "markdown",
   "metadata": {},
   "source": [
    "***\n",
    "## Ground Truth"
   ]
  },
  {
   "cell_type": "markdown",
   "metadata": {},
   "source": [
    "#### Read occupancy files, remeove names, include count, write to day-wise files"
   ]
  },
  {
   "cell_type": "code",
   "execution_count": null,
   "metadata": {},
   "outputs": [],
   "source": []
  },
  {
   "cell_type": "markdown",
   "metadata": {},
   "source": [
    "#### Remove days not part of set"
   ]
  },
  {
   "cell_type": "code",
   "execution_count": null,
   "metadata": {},
   "outputs": [],
   "source": []
  },
  {
   "cell_type": "markdown",
   "metadata": {},
   "source": [
    "### Compress all days"
   ]
  },
  {
   "cell_type": "code",
   "execution_count": null,
   "metadata": {},
   "outputs": [],
   "source": []
  }
 ],
 "metadata": {
  "kernelspec": {
   "display_name": "Python 3",
   "language": "python",
   "name": "python3"
  },
  "language_info": {
   "codemirror_mode": {
    "name": "ipython",
    "version": 3
   },
   "file_extension": ".py",
   "mimetype": "text/x-python",
   "name": "python",
   "nbconvert_exporter": "python",
   "pygments_lexer": "ipython3",
   "version": "3.7.4"
  }
 },
 "nbformat": 4,
 "nbformat_minor": 4
}
