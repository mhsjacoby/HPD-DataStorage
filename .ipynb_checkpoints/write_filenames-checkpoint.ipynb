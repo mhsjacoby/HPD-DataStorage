{
 "cells": [
  {
   "cell_type": "code",
   "execution_count": 1,
   "metadata": {},
   "outputs": [],
   "source": [
    "import os\n",
    "import csv\n",
    "import json\n",
    "import shutil\n",
    "from glob import glob\n",
    "from datetime import datetime\n",
    "\n",
    "from my_functions import *\n",
    "# imports functions: mylistdir, make_storage_directory, and get_date_list"
   ]
  },
  {
   "cell_type": "markdown",
   "metadata": {},
   "source": [
    "***\n",
    "## Whole sheet inputs"
   ]
  },
  {
   "cell_type": "code",
   "execution_count": 30,
   "metadata": {},
   "outputs": [],
   "source": [
    "\n",
    "# Local file storage\n",
    "local_save_path = '/Users/maggie/Desktop/HDstorage'\n",
    "\n",
    "# Final location for compressed file storage\n",
    "dest_for_compressed = '/Volumes/SAMSUNG-4/'\n",
    "\n",
    "start_end_file = 'start_end_dates.json'\n",
    "\n",
    "# Path to home files (external HD)\n",
    "from_path = '/Volumes/TOSHIBA-21/H1-red/'"
   ]
  },
  {
   "cell_type": "code",
   "execution_count": 6,
   "metadata": {},
   "outputs": [
    {
     "name": "stdout",
     "output_type": "stream",
     "text": [
      "Number of days in home H1: 30\n",
      "Hub paths:\n",
      "/Volumes/TOSHIBA-21/H1-red/RS1\n",
      "/Volumes/TOSHIBA-21/H1-red/RS2\n",
      "/Volumes/TOSHIBA-21/H1-red/RS3\n",
      "/Volumes/TOSHIBA-21/H1-red/RS4\n",
      "/Volumes/TOSHIBA-21/H1-red/RS5\n"
     ]
    }
   ],
   "source": [
    "\n",
    "\n",
    "home, c = os.path.basename(from_path.strip('/')).split('-')\n",
    "color = c[0].upper()\n",
    "hub_paths = glob(os.path.join(from_path, f'{color}S*'))\n",
    "    \n",
    "all_days = get_date_list(read_file=start_end_file, H_num=home)\n",
    "print(f'Number of days in home {home}: {len(all_days)}')\n",
    "print('Hub paths:')\n",
    "for hub in hub_paths:\n",
    "    print(hub)"
   ]
  },
  {
   "cell_type": "markdown",
   "metadata": {},
   "source": [
    "***\n",
    "## A. Dark Image Lists\n",
    "Final csv files should be in form:  \n",
    "`HOME_DARKIMAGES.zip/HOME_HUB_DARKIMAGES/date_hub_home_dark-images.csv`\n",
    "\n",
    "1. Re-write the (date-appropriate) json files (stored in `hub_path`) to `.csv` files stored in the `local_save_path`. \n",
    "2. Compress the final folder to `dest_for_compressed`."
   ]
  },
  {
   "cell_type": "markdown",
   "metadata": {},
   "source": [
    "### 1. Rewrite Dark image JSON files to csvs and rename storage directories"
   ]
  },
  {
   "cell_type": "code",
   "execution_count": 10,
   "metadata": {},
   "outputs": [
    {
     "name": "stdout",
     "output_type": "stream",
     "text": [
      "RS1 30\n",
      "RS2 30\n",
      "RS3 30\n",
      "RS4 30\n",
      "RS5 29\n"
     ]
    }
   ],
   "source": [
    "save_loc = make_storage_directory(os.path.join(local_save_path, home, f'{home}_DARKIMAGES'))\n",
    "\n",
    "\n",
    "for hub_path in hub_paths:\n",
    "    hub = os.path.basename(hub_path.strip('/'))\n",
    "    save_dirname = f'{home}_{hub}_DARKIMAGES'\n",
    "#     print(os.path.join(save_loc, save_dirname))\n",
    "    save_hub_dir = make_storage_directory(os.path.join(save_loc, save_dirname))\n",
    "    all_files = glob(os.path.join(hub_path, '*-img-pkl', 'black_image_dicts', '*.json'))\n",
    "    files_to_process = [f for f in all_files if os.path.basename(f).strip('_dark_images.json') in all_days]\n",
    "    print(hub, len(files_to_process))\n",
    "    for json_file in files_to_process:\n",
    "        day = os.path.basename(json_file).strip('_dark_images.json')\n",
    "        with open(json_file) as json_file:\n",
    "            data = json.load(json_file)\n",
    "            times = []\n",
    "            for key in data:\n",
    "                times.extend(data[key])\n",
    "        timestamps = sorted([datetime.strptime(f'{day} {time}', '%Y-%m-%d %H%M%S') for time in times])\n",
    "        timestamps = [[ts] for ts in timestamps]\n",
    "\n",
    "        csv_file = os.path.join(save_hub_dir, f'{day}_{hub}_{home}_darkimages.csv')\n",
    "        write_file = open(csv_file, 'w+')\n",
    "        with write_file:\n",
    "            csv_writer = csv.writer(write_file)\n",
    "            csv_writer.writerows(timestamps)"
   ]
  },
  {
   "cell_type": "markdown",
   "metadata": {},
   "source": [
    "### 2. Compress dark image files to harddrive"
   ]
  },
  {
   "cell_type": "code",
   "execution_count": 13,
   "metadata": {},
   "outputs": [
    {
     "name": "stdout",
     "output_type": "stream",
     "text": [
      "from: /Users/maggie/Desktop/HDstorage/H1/H1_DARKIMAGES to: /Volumes/SAMSUNG-4/H1/H1_DARKIMAGES\n"
     ]
    },
    {
     "data": {
      "text/plain": [
       "'/Volumes/SAMSUNG-4/H1/H1_DARKIMAGES.zip'"
      ]
     },
     "execution_count": 13,
     "metadata": {},
     "output_type": "execute_result"
    }
   ],
   "source": [
    "to_path = make_storage_directory(os.path.join(dest_for_compressed, home))\n",
    "\n",
    "to_compress = os.path.join(local_save_path, home, f'{home}_DARKIMAGES')\n",
    "destination = os.path.join(to_path, os.path.basename(to_compress.strip('/')))\n",
    "\n",
    "print(f'from: {to_compress} to: {destination}')\n",
    "shutil.make_archive(destination, 'zip', to_compress)"
   ]
  },
  {
   "cell_type": "markdown",
   "metadata": {},
   "source": [
    "***\n",
    "## B. Images\n",
    "\n",
    "Final images should be in form:  \n",
    "`from_path/hub/HOME_HUB_IMAGES/date/minute/date_time_hub_home.png`. <br>\n",
    "where `date`, `minute`, and `time` are `YYYY-mm-dd`, `hhmm`, and `hhmmss`, respectively.\n",
    "\n",
    "Zip files should be stored on `dest_for_compressed` under `HOME_HUB_IMAGES.zip`\n",
    "\n",
    "1. Create new day-wise folder of copied images to include on `from_path` by moving ones NOT to compress to archived folder.\n",
    "2. Compress images to external `dest_for_compressed`.\n"
   ]
  },
  {
   "cell_type": "markdown",
   "metadata": {},
   "source": [
    "### 1. Move image day-files not part of the set to an archive folder"
   ]
  },
  {
   "cell_type": "code",
   "execution_count": 20,
   "metadata": {},
   "outputs": [
    {
     "name": "stdout",
     "output_type": "stream",
     "text": [
      "RS1 30 0\n",
      "RS2 30 0\n",
      "RS3 30 0\n",
      "RS4 30 0\n",
      "RS5 30 0\n"
     ]
    }
   ],
   "source": [
    "for hub_path in hub_paths:\n",
    "    hub = os.path.basename(hub_path.strip('/'))\n",
    "    day_files = glob(os.path.join(hub_path, 'img-downsized-32', '2019-*'))\n",
    "    move_files = [f for f in day_files if os.path.basename(f) not in all_days]\n",
    "    print(hub, len(day_files), len(move_files))\n",
    "    target_dir = make_storage_directory(os.path.join(hub_path, 'img-downsized_archive'))\n",
    "    for f_to_move in move_files:\n",
    "        print(f_to_move, target_dir)\n",
    "#         shutil.move(f_to_move, target_dir)"
   ]
  },
  {
   "cell_type": "markdown",
   "metadata": {},
   "source": [
    "### 2. Compress image files to harddrive"
   ]
  },
  {
   "cell_type": "code",
   "execution_count": 32,
   "metadata": {},
   "outputs": [
    {
     "name": "stdout",
     "output_type": "stream",
     "text": [
      "Days to compress on hub RS1: 30\n",
      "from: /Volumes/TOSHIBA-21/H1-red/RS1/img-downsized-32 to: /Volumes/SAMSUNG-4/H1/H1_RS1_IMAGES\n",
      "done compressing  /Volumes/SAMSUNG-4/H1/H1_RS1_IMAGES\n",
      "Days to compress on hub RS2: 30\n",
      "from: /Volumes/TOSHIBA-21/H1-red/RS2/img-downsized-32 to: /Volumes/SAMSUNG-4/H1/H1_RS2_IMAGES\n",
      "done compressing  /Volumes/SAMSUNG-4/H1/H1_RS2_IMAGES\n",
      "Days to compress on hub RS3: 30\n",
      "from: /Volumes/TOSHIBA-21/H1-red/RS3/img-downsized-32 to: /Volumes/SAMSUNG-4/H1/H1_RS3_IMAGES\n",
      "done compressing  /Volumes/SAMSUNG-4/H1/H1_RS3_IMAGES\n",
      "Days to compress on hub RS4: 30\n",
      "from: /Volumes/TOSHIBA-21/H1-red/RS4/img-downsized-32 to: /Volumes/SAMSUNG-4/H1/H1_RS4_IMAGES\n",
      "done compressing  /Volumes/SAMSUNG-4/H1/H1_RS4_IMAGES\n",
      "Days to compress on hub RS5: 30\n",
      "from: /Volumes/TOSHIBA-21/H1-red/RS5/img-downsized-32 to: /Volumes/SAMSUNG-4/H1/H1_RS5_IMAGES\n",
      "done compressing  /Volumes/SAMSUNG-4/H1/H1_RS5_IMAGES\n"
     ]
    }
   ],
   "source": [
    "\n",
    "for hub_path in hub_paths:\n",
    "    img_path = os.path.join(hub_path, 'img-downsized-32')\n",
    "    hub = os.path.basename(hub_path)\n",
    "    print(f'Days to compress on hub {hub}: {len(glob(os.path.join(img_path, \"2019-*\")))}')\n",
    "    to_compress = img_path\n",
    "    destination = os.path.join(dest_for_compressed, home, f'{home}_{hub}_IMAGES')\n",
    "    print(f'from: {to_compress} to: {destination}')\n",
    "    shutil.make_archive(destination, 'zip', to_compress)\n",
    "    print('done compressing ', destination)\n"
   ]
  },
  {
   "cell_type": "markdown",
   "metadata": {},
   "source": [
    "***\n",
    "## C. Audio\n",
    "Final audio files, stored as csv, should be in form:  \n",
    "`HOME_AUDIO.zip/HOME_HUB_AUDIO/date/minute/date_time_hub_home_.csv` <br>\n",
    "where `date`, `minute`, and `time` are `YYYY-mm-dd`, `hhmm`, and `hhmmss`, respectively.\n",
    "\n",
    "1. Copy the day-wise audio files (stored in `hub_path`) to same structured files stored in the `local_save_path`. \n",
    "2. Compress the final folder with all hubs to `dest_for_compressed`.\n",
    "\n"
   ]
  },
  {
   "cell_type": "markdown",
   "metadata": {},
   "source": [
    "### 1. Combine hub-folders for audio into one folder"
   ]
  },
  {
   "cell_type": "code",
   "execution_count": 38,
   "metadata": {
    "collapsed": true,
    "jupyter": {
     "outputs_hidden": true
    }
   },
   "outputs": [
    {
     "name": "stdout",
     "output_type": "stream",
     "text": [
      "/Volumes/TOSHIBA-21/H1-red/RS1\n",
      "RS1 52 30\n",
      "from: /Volumes/TOSHIBA-21/H1-red/RS1/processed_audio/audio_csv/2019-11-26 to: /Users/maggie/Desktop/HDstorage/H1/H1_AUDIO/H1_RS1_AUDIO/2019-11-26\n",
      "from: /Volumes/TOSHIBA-21/H1-red/RS1/processed_audio/audio_csv/2019-11-27 to: /Users/maggie/Desktop/HDstorage/H1/H1_AUDIO/H1_RS1_AUDIO/2019-11-27\n",
      "from: /Volumes/TOSHIBA-21/H1-red/RS1/processed_audio/audio_csv/2019-11-28 to: /Users/maggie/Desktop/HDstorage/H1/H1_AUDIO/H1_RS1_AUDIO/2019-11-28\n",
      "from: /Volumes/TOSHIBA-21/H1-red/RS1/processed_audio/audio_csv/2019-11-29 to: /Users/maggie/Desktop/HDstorage/H1/H1_AUDIO/H1_RS1_AUDIO/2019-11-29\n",
      "from: /Volumes/TOSHIBA-21/H1-red/RS1/processed_audio/audio_csv/2019-11-30 to: /Users/maggie/Desktop/HDstorage/H1/H1_AUDIO/H1_RS1_AUDIO/2019-11-30\n",
      "from: /Volumes/TOSHIBA-21/H1-red/RS1/processed_audio/audio_csv/2019-12-01 to: /Users/maggie/Desktop/HDstorage/H1/H1_AUDIO/H1_RS1_AUDIO/2019-12-01\n",
      "from: /Volumes/TOSHIBA-21/H1-red/RS1/processed_audio/audio_csv/2019-12-02 to: /Users/maggie/Desktop/HDstorage/H1/H1_AUDIO/H1_RS1_AUDIO/2019-12-02\n",
      "from: /Volumes/TOSHIBA-21/H1-red/RS1/processed_audio/audio_csv/2019-12-03 to: /Users/maggie/Desktop/HDstorage/H1/H1_AUDIO/H1_RS1_AUDIO/2019-12-03\n",
      "from: /Volumes/TOSHIBA-21/H1-red/RS1/processed_audio/audio_csv/2019-12-04 to: /Users/maggie/Desktop/HDstorage/H1/H1_AUDIO/H1_RS1_AUDIO/2019-12-04\n",
      "from: /Volumes/TOSHIBA-21/H1-red/RS1/processed_audio/audio_csv/2019-12-05 to: /Users/maggie/Desktop/HDstorage/H1/H1_AUDIO/H1_RS1_AUDIO/2019-12-05\n",
      "from: /Volumes/TOSHIBA-21/H1-red/RS1/processed_audio/audio_csv/2019-12-06 to: /Users/maggie/Desktop/HDstorage/H1/H1_AUDIO/H1_RS1_AUDIO/2019-12-06\n",
      "from: /Volumes/TOSHIBA-21/H1-red/RS1/processed_audio/audio_csv/2019-12-07 to: /Users/maggie/Desktop/HDstorage/H1/H1_AUDIO/H1_RS1_AUDIO/2019-12-07\n",
      "from: /Volumes/TOSHIBA-21/H1-red/RS1/processed_audio/audio_csv/2019-12-08 to: /Users/maggie/Desktop/HDstorage/H1/H1_AUDIO/H1_RS1_AUDIO/2019-12-08\n",
      "from: /Volumes/TOSHIBA-21/H1-red/RS1/processed_audio/audio_csv/2019-12-09 to: /Users/maggie/Desktop/HDstorage/H1/H1_AUDIO/H1_RS1_AUDIO/2019-12-09\n",
      "from: /Volumes/TOSHIBA-21/H1-red/RS1/processed_audio/audio_csv/2019-12-10 to: /Users/maggie/Desktop/HDstorage/H1/H1_AUDIO/H1_RS1_AUDIO/2019-12-10\n",
      "from: /Volumes/TOSHIBA-21/H1-red/RS1/processed_audio/audio_csv/2019-12-11 to: /Users/maggie/Desktop/HDstorage/H1/H1_AUDIO/H1_RS1_AUDIO/2019-12-11\n",
      "from: /Volumes/TOSHIBA-21/H1-red/RS1/processed_audio/audio_csv/2019-12-12 to: /Users/maggie/Desktop/HDstorage/H1/H1_AUDIO/H1_RS1_AUDIO/2019-12-12\n",
      "from: /Volumes/TOSHIBA-21/H1-red/RS1/processed_audio/audio_csv/2019-12-13 to: /Users/maggie/Desktop/HDstorage/H1/H1_AUDIO/H1_RS1_AUDIO/2019-12-13\n",
      "from: /Volumes/TOSHIBA-21/H1-red/RS1/processed_audio/audio_csv/2019-12-14 to: /Users/maggie/Desktop/HDstorage/H1/H1_AUDIO/H1_RS1_AUDIO/2019-12-14\n",
      "from: /Volumes/TOSHIBA-21/H1-red/RS1/processed_audio/audio_csv/2019-12-15 to: /Users/maggie/Desktop/HDstorage/H1/H1_AUDIO/H1_RS1_AUDIO/2019-12-15\n",
      "from: /Volumes/TOSHIBA-21/H1-red/RS1/processed_audio/audio_csv/2019-12-16 to: /Users/maggie/Desktop/HDstorage/H1/H1_AUDIO/H1_RS1_AUDIO/2019-12-16\n",
      "from: /Volumes/TOSHIBA-21/H1-red/RS1/processed_audio/audio_csv/2019-12-17 to: /Users/maggie/Desktop/HDstorage/H1/H1_AUDIO/H1_RS1_AUDIO/2019-12-17\n",
      "from: /Volumes/TOSHIBA-21/H1-red/RS1/processed_audio/audio_csv/2019-12-18 to: /Users/maggie/Desktop/HDstorage/H1/H1_AUDIO/H1_RS1_AUDIO/2019-12-18\n",
      "from: /Volumes/TOSHIBA-21/H1-red/RS1/processed_audio/audio_csv/2019-12-19 to: /Users/maggie/Desktop/HDstorage/H1/H1_AUDIO/H1_RS1_AUDIO/2019-12-19\n",
      "from: /Volumes/TOSHIBA-21/H1-red/RS1/processed_audio/audio_csv/2019-12-20 to: /Users/maggie/Desktop/HDstorage/H1/H1_AUDIO/H1_RS1_AUDIO/2019-12-20\n",
      "from: /Volumes/TOSHIBA-21/H1-red/RS1/processed_audio/audio_csv/2019-12-21 to: /Users/maggie/Desktop/HDstorage/H1/H1_AUDIO/H1_RS1_AUDIO/2019-12-21\n",
      "from: /Volumes/TOSHIBA-21/H1-red/RS1/processed_audio/audio_csv/2019-12-22 to: /Users/maggie/Desktop/HDstorage/H1/H1_AUDIO/H1_RS1_AUDIO/2019-12-22\n",
      "from: /Volumes/TOSHIBA-21/H1-red/RS1/processed_audio/audio_csv/2019-12-23 to: /Users/maggie/Desktop/HDstorage/H1/H1_AUDIO/H1_RS1_AUDIO/2019-12-23\n",
      "from: /Volumes/TOSHIBA-21/H1-red/RS1/processed_audio/audio_csv/2019-12-24 to: /Users/maggie/Desktop/HDstorage/H1/H1_AUDIO/H1_RS1_AUDIO/2019-12-24\n",
      "from: /Volumes/TOSHIBA-21/H1-red/RS1/processed_audio/audio_csv/2019-12-25 to: /Users/maggie/Desktop/HDstorage/H1/H1_AUDIO/H1_RS1_AUDIO/2019-12-25\n",
      "/Volumes/TOSHIBA-21/H1-red/RS2\n",
      "RS2 52 30\n",
      "from: /Volumes/TOSHIBA-21/H1-red/RS2/processed_audio/audio_csv/2019-11-26 to: /Users/maggie/Desktop/HDstorage/H1/H1_AUDIO/H1_RS2_AUDIO/2019-11-26\n",
      "from: /Volumes/TOSHIBA-21/H1-red/RS2/processed_audio/audio_csv/2019-11-27 to: /Users/maggie/Desktop/HDstorage/H1/H1_AUDIO/H1_RS2_AUDIO/2019-11-27\n",
      "from: /Volumes/TOSHIBA-21/H1-red/RS2/processed_audio/audio_csv/2019-11-28 to: /Users/maggie/Desktop/HDstorage/H1/H1_AUDIO/H1_RS2_AUDIO/2019-11-28\n",
      "from: /Volumes/TOSHIBA-21/H1-red/RS2/processed_audio/audio_csv/2019-11-29 to: /Users/maggie/Desktop/HDstorage/H1/H1_AUDIO/H1_RS2_AUDIO/2019-11-29\n",
      "from: /Volumes/TOSHIBA-21/H1-red/RS2/processed_audio/audio_csv/2019-11-30 to: /Users/maggie/Desktop/HDstorage/H1/H1_AUDIO/H1_RS2_AUDIO/2019-11-30\n",
      "from: /Volumes/TOSHIBA-21/H1-red/RS2/processed_audio/audio_csv/2019-12-01 to: /Users/maggie/Desktop/HDstorage/H1/H1_AUDIO/H1_RS2_AUDIO/2019-12-01\n",
      "from: /Volumes/TOSHIBA-21/H1-red/RS2/processed_audio/audio_csv/2019-12-02 to: /Users/maggie/Desktop/HDstorage/H1/H1_AUDIO/H1_RS2_AUDIO/2019-12-02\n",
      "from: /Volumes/TOSHIBA-21/H1-red/RS2/processed_audio/audio_csv/2019-12-03 to: /Users/maggie/Desktop/HDstorage/H1/H1_AUDIO/H1_RS2_AUDIO/2019-12-03\n",
      "from: /Volumes/TOSHIBA-21/H1-red/RS2/processed_audio/audio_csv/2019-12-04 to: /Users/maggie/Desktop/HDstorage/H1/H1_AUDIO/H1_RS2_AUDIO/2019-12-04\n",
      "from: /Volumes/TOSHIBA-21/H1-red/RS2/processed_audio/audio_csv/2019-12-05 to: /Users/maggie/Desktop/HDstorage/H1/H1_AUDIO/H1_RS2_AUDIO/2019-12-05\n",
      "from: /Volumes/TOSHIBA-21/H1-red/RS2/processed_audio/audio_csv/2019-12-06 to: /Users/maggie/Desktop/HDstorage/H1/H1_AUDIO/H1_RS2_AUDIO/2019-12-06\n",
      "from: /Volumes/TOSHIBA-21/H1-red/RS2/processed_audio/audio_csv/2019-12-07 to: /Users/maggie/Desktop/HDstorage/H1/H1_AUDIO/H1_RS2_AUDIO/2019-12-07\n",
      "from: /Volumes/TOSHIBA-21/H1-red/RS2/processed_audio/audio_csv/2019-12-08 to: /Users/maggie/Desktop/HDstorage/H1/H1_AUDIO/H1_RS2_AUDIO/2019-12-08\n",
      "from: /Volumes/TOSHIBA-21/H1-red/RS2/processed_audio/audio_csv/2019-12-09 to: /Users/maggie/Desktop/HDstorage/H1/H1_AUDIO/H1_RS2_AUDIO/2019-12-09\n",
      "from: /Volumes/TOSHIBA-21/H1-red/RS2/processed_audio/audio_csv/2019-12-10 to: /Users/maggie/Desktop/HDstorage/H1/H1_AUDIO/H1_RS2_AUDIO/2019-12-10\n",
      "from: /Volumes/TOSHIBA-21/H1-red/RS2/processed_audio/audio_csv/2019-12-11 to: /Users/maggie/Desktop/HDstorage/H1/H1_AUDIO/H1_RS2_AUDIO/2019-12-11\n",
      "from: /Volumes/TOSHIBA-21/H1-red/RS2/processed_audio/audio_csv/2019-12-12 to: /Users/maggie/Desktop/HDstorage/H1/H1_AUDIO/H1_RS2_AUDIO/2019-12-12\n",
      "from: /Volumes/TOSHIBA-21/H1-red/RS2/processed_audio/audio_csv/2019-12-13 to: /Users/maggie/Desktop/HDstorage/H1/H1_AUDIO/H1_RS2_AUDIO/2019-12-13\n",
      "from: /Volumes/TOSHIBA-21/H1-red/RS2/processed_audio/audio_csv/2019-12-14 to: /Users/maggie/Desktop/HDstorage/H1/H1_AUDIO/H1_RS2_AUDIO/2019-12-14\n",
      "from: /Volumes/TOSHIBA-21/H1-red/RS2/processed_audio/audio_csv/2019-12-15 to: /Users/maggie/Desktop/HDstorage/H1/H1_AUDIO/H1_RS2_AUDIO/2019-12-15\n",
      "from: /Volumes/TOSHIBA-21/H1-red/RS2/processed_audio/audio_csv/2019-12-16 to: /Users/maggie/Desktop/HDstorage/H1/H1_AUDIO/H1_RS2_AUDIO/2019-12-16\n",
      "from: /Volumes/TOSHIBA-21/H1-red/RS2/processed_audio/audio_csv/2019-12-17 to: /Users/maggie/Desktop/HDstorage/H1/H1_AUDIO/H1_RS2_AUDIO/2019-12-17\n",
      "from: /Volumes/TOSHIBA-21/H1-red/RS2/processed_audio/audio_csv/2019-12-18 to: /Users/maggie/Desktop/HDstorage/H1/H1_AUDIO/H1_RS2_AUDIO/2019-12-18\n",
      "from: /Volumes/TOSHIBA-21/H1-red/RS2/processed_audio/audio_csv/2019-12-19 to: /Users/maggie/Desktop/HDstorage/H1/H1_AUDIO/H1_RS2_AUDIO/2019-12-19\n",
      "from: /Volumes/TOSHIBA-21/H1-red/RS2/processed_audio/audio_csv/2019-12-20 to: /Users/maggie/Desktop/HDstorage/H1/H1_AUDIO/H1_RS2_AUDIO/2019-12-20\n",
      "from: /Volumes/TOSHIBA-21/H1-red/RS2/processed_audio/audio_csv/2019-12-21 to: /Users/maggie/Desktop/HDstorage/H1/H1_AUDIO/H1_RS2_AUDIO/2019-12-21\n",
      "from: /Volumes/TOSHIBA-21/H1-red/RS2/processed_audio/audio_csv/2019-12-22 to: /Users/maggie/Desktop/HDstorage/H1/H1_AUDIO/H1_RS2_AUDIO/2019-12-22\n",
      "from: /Volumes/TOSHIBA-21/H1-red/RS2/processed_audio/audio_csv/2019-12-23 to: /Users/maggie/Desktop/HDstorage/H1/H1_AUDIO/H1_RS2_AUDIO/2019-12-23\n",
      "from: /Volumes/TOSHIBA-21/H1-red/RS2/processed_audio/audio_csv/2019-12-24 to: /Users/maggie/Desktop/HDstorage/H1/H1_AUDIO/H1_RS2_AUDIO/2019-12-24\n",
      "from: /Volumes/TOSHIBA-21/H1-red/RS2/processed_audio/audio_csv/2019-12-25 to: /Users/maggie/Desktop/HDstorage/H1/H1_AUDIO/H1_RS2_AUDIO/2019-12-25\n",
      "/Volumes/TOSHIBA-21/H1-red/RS3\n",
      "RS3 52 30\n",
      "from: /Volumes/TOSHIBA-21/H1-red/RS3/processed_audio/audio_csv/2019-11-26 to: /Users/maggie/Desktop/HDstorage/H1/H1_AUDIO/H1_RS3_AUDIO/2019-11-26\n",
      "from: /Volumes/TOSHIBA-21/H1-red/RS3/processed_audio/audio_csv/2019-11-27 to: /Users/maggie/Desktop/HDstorage/H1/H1_AUDIO/H1_RS3_AUDIO/2019-11-27\n",
      "from: /Volumes/TOSHIBA-21/H1-red/RS3/processed_audio/audio_csv/2019-11-28 to: /Users/maggie/Desktop/HDstorage/H1/H1_AUDIO/H1_RS3_AUDIO/2019-11-28\n",
      "from: /Volumes/TOSHIBA-21/H1-red/RS3/processed_audio/audio_csv/2019-11-29 to: /Users/maggie/Desktop/HDstorage/H1/H1_AUDIO/H1_RS3_AUDIO/2019-11-29\n",
      "from: /Volumes/TOSHIBA-21/H1-red/RS3/processed_audio/audio_csv/2019-11-30 to: /Users/maggie/Desktop/HDstorage/H1/H1_AUDIO/H1_RS3_AUDIO/2019-11-30\n",
      "from: /Volumes/TOSHIBA-21/H1-red/RS3/processed_audio/audio_csv/2019-12-01 to: /Users/maggie/Desktop/HDstorage/H1/H1_AUDIO/H1_RS3_AUDIO/2019-12-01\n",
      "from: /Volumes/TOSHIBA-21/H1-red/RS3/processed_audio/audio_csv/2019-12-02 to: /Users/maggie/Desktop/HDstorage/H1/H1_AUDIO/H1_RS3_AUDIO/2019-12-02\n",
      "from: /Volumes/TOSHIBA-21/H1-red/RS3/processed_audio/audio_csv/2019-12-03 to: /Users/maggie/Desktop/HDstorage/H1/H1_AUDIO/H1_RS3_AUDIO/2019-12-03\n",
      "from: /Volumes/TOSHIBA-21/H1-red/RS3/processed_audio/audio_csv/2019-12-04 to: /Users/maggie/Desktop/HDstorage/H1/H1_AUDIO/H1_RS3_AUDIO/2019-12-04\n",
      "from: /Volumes/TOSHIBA-21/H1-red/RS3/processed_audio/audio_csv/2019-12-05 to: /Users/maggie/Desktop/HDstorage/H1/H1_AUDIO/H1_RS3_AUDIO/2019-12-05\n",
      "from: /Volumes/TOSHIBA-21/H1-red/RS3/processed_audio/audio_csv/2019-12-06 to: /Users/maggie/Desktop/HDstorage/H1/H1_AUDIO/H1_RS3_AUDIO/2019-12-06\n",
      "from: /Volumes/TOSHIBA-21/H1-red/RS3/processed_audio/audio_csv/2019-12-07 to: /Users/maggie/Desktop/HDstorage/H1/H1_AUDIO/H1_RS3_AUDIO/2019-12-07\n",
      "from: /Volumes/TOSHIBA-21/H1-red/RS3/processed_audio/audio_csv/2019-12-08 to: /Users/maggie/Desktop/HDstorage/H1/H1_AUDIO/H1_RS3_AUDIO/2019-12-08\n",
      "from: /Volumes/TOSHIBA-21/H1-red/RS3/processed_audio/audio_csv/2019-12-09 to: /Users/maggie/Desktop/HDstorage/H1/H1_AUDIO/H1_RS3_AUDIO/2019-12-09\n",
      "from: /Volumes/TOSHIBA-21/H1-red/RS3/processed_audio/audio_csv/2019-12-10 to: /Users/maggie/Desktop/HDstorage/H1/H1_AUDIO/H1_RS3_AUDIO/2019-12-10\n",
      "from: /Volumes/TOSHIBA-21/H1-red/RS3/processed_audio/audio_csv/2019-12-11 to: /Users/maggie/Desktop/HDstorage/H1/H1_AUDIO/H1_RS3_AUDIO/2019-12-11\n",
      "from: /Volumes/TOSHIBA-21/H1-red/RS3/processed_audio/audio_csv/2019-12-12 to: /Users/maggie/Desktop/HDstorage/H1/H1_AUDIO/H1_RS3_AUDIO/2019-12-12\n",
      "from: /Volumes/TOSHIBA-21/H1-red/RS3/processed_audio/audio_csv/2019-12-13 to: /Users/maggie/Desktop/HDstorage/H1/H1_AUDIO/H1_RS3_AUDIO/2019-12-13\n",
      "from: /Volumes/TOSHIBA-21/H1-red/RS3/processed_audio/audio_csv/2019-12-14 to: /Users/maggie/Desktop/HDstorage/H1/H1_AUDIO/H1_RS3_AUDIO/2019-12-14\n",
      "from: /Volumes/TOSHIBA-21/H1-red/RS3/processed_audio/audio_csv/2019-12-15 to: /Users/maggie/Desktop/HDstorage/H1/H1_AUDIO/H1_RS3_AUDIO/2019-12-15\n",
      "from: /Volumes/TOSHIBA-21/H1-red/RS3/processed_audio/audio_csv/2019-12-16 to: /Users/maggie/Desktop/HDstorage/H1/H1_AUDIO/H1_RS3_AUDIO/2019-12-16\n",
      "from: /Volumes/TOSHIBA-21/H1-red/RS3/processed_audio/audio_csv/2019-12-17 to: /Users/maggie/Desktop/HDstorage/H1/H1_AUDIO/H1_RS3_AUDIO/2019-12-17\n",
      "from: /Volumes/TOSHIBA-21/H1-red/RS3/processed_audio/audio_csv/2019-12-18 to: /Users/maggie/Desktop/HDstorage/H1/H1_AUDIO/H1_RS3_AUDIO/2019-12-18\n",
      "from: /Volumes/TOSHIBA-21/H1-red/RS3/processed_audio/audio_csv/2019-12-19 to: /Users/maggie/Desktop/HDstorage/H1/H1_AUDIO/H1_RS3_AUDIO/2019-12-19\n",
      "from: /Volumes/TOSHIBA-21/H1-red/RS3/processed_audio/audio_csv/2019-12-20 to: /Users/maggie/Desktop/HDstorage/H1/H1_AUDIO/H1_RS3_AUDIO/2019-12-20\n",
      "from: /Volumes/TOSHIBA-21/H1-red/RS3/processed_audio/audio_csv/2019-12-21 to: /Users/maggie/Desktop/HDstorage/H1/H1_AUDIO/H1_RS3_AUDIO/2019-12-21\n",
      "from: /Volumes/TOSHIBA-21/H1-red/RS3/processed_audio/audio_csv/2019-12-22 to: /Users/maggie/Desktop/HDstorage/H1/H1_AUDIO/H1_RS3_AUDIO/2019-12-22\n",
      "from: /Volumes/TOSHIBA-21/H1-red/RS3/processed_audio/audio_csv/2019-12-23 to: /Users/maggie/Desktop/HDstorage/H1/H1_AUDIO/H1_RS3_AUDIO/2019-12-23\n",
      "from: /Volumes/TOSHIBA-21/H1-red/RS3/processed_audio/audio_csv/2019-12-24 to: /Users/maggie/Desktop/HDstorage/H1/H1_AUDIO/H1_RS3_AUDIO/2019-12-24\n",
      "from: /Volumes/TOSHIBA-21/H1-red/RS3/processed_audio/audio_csv/2019-12-25 to: /Users/maggie/Desktop/HDstorage/H1/H1_AUDIO/H1_RS3_AUDIO/2019-12-25\n",
      "/Volumes/TOSHIBA-21/H1-red/RS4\n",
      "RS4 52 30\n",
      "from: /Volumes/TOSHIBA-21/H1-red/RS4/processed_audio/audio_csv/2019-11-26 to: /Users/maggie/Desktop/HDstorage/H1/H1_AUDIO/H1_RS4_AUDIO/2019-11-26\n",
      "from: /Volumes/TOSHIBA-21/H1-red/RS4/processed_audio/audio_csv/2019-11-27 to: /Users/maggie/Desktop/HDstorage/H1/H1_AUDIO/H1_RS4_AUDIO/2019-11-27\n",
      "from: /Volumes/TOSHIBA-21/H1-red/RS4/processed_audio/audio_csv/2019-11-28 to: /Users/maggie/Desktop/HDstorage/H1/H1_AUDIO/H1_RS4_AUDIO/2019-11-28\n",
      "from: /Volumes/TOSHIBA-21/H1-red/RS4/processed_audio/audio_csv/2019-11-29 to: /Users/maggie/Desktop/HDstorage/H1/H1_AUDIO/H1_RS4_AUDIO/2019-11-29\n",
      "from: /Volumes/TOSHIBA-21/H1-red/RS4/processed_audio/audio_csv/2019-11-30 to: /Users/maggie/Desktop/HDstorage/H1/H1_AUDIO/H1_RS4_AUDIO/2019-11-30\n",
      "from: /Volumes/TOSHIBA-21/H1-red/RS4/processed_audio/audio_csv/2019-12-01 to: /Users/maggie/Desktop/HDstorage/H1/H1_AUDIO/H1_RS4_AUDIO/2019-12-01\n",
      "from: /Volumes/TOSHIBA-21/H1-red/RS4/processed_audio/audio_csv/2019-12-02 to: /Users/maggie/Desktop/HDstorage/H1/H1_AUDIO/H1_RS4_AUDIO/2019-12-02\n",
      "from: /Volumes/TOSHIBA-21/H1-red/RS4/processed_audio/audio_csv/2019-12-03 to: /Users/maggie/Desktop/HDstorage/H1/H1_AUDIO/H1_RS4_AUDIO/2019-12-03\n",
      "from: /Volumes/TOSHIBA-21/H1-red/RS4/processed_audio/audio_csv/2019-12-04 to: /Users/maggie/Desktop/HDstorage/H1/H1_AUDIO/H1_RS4_AUDIO/2019-12-04\n",
      "from: /Volumes/TOSHIBA-21/H1-red/RS4/processed_audio/audio_csv/2019-12-05 to: /Users/maggie/Desktop/HDstorage/H1/H1_AUDIO/H1_RS4_AUDIO/2019-12-05\n",
      "from: /Volumes/TOSHIBA-21/H1-red/RS4/processed_audio/audio_csv/2019-12-06 to: /Users/maggie/Desktop/HDstorage/H1/H1_AUDIO/H1_RS4_AUDIO/2019-12-06\n",
      "from: /Volumes/TOSHIBA-21/H1-red/RS4/processed_audio/audio_csv/2019-12-07 to: /Users/maggie/Desktop/HDstorage/H1/H1_AUDIO/H1_RS4_AUDIO/2019-12-07\n",
      "from: /Volumes/TOSHIBA-21/H1-red/RS4/processed_audio/audio_csv/2019-12-08 to: /Users/maggie/Desktop/HDstorage/H1/H1_AUDIO/H1_RS4_AUDIO/2019-12-08\n",
      "from: /Volumes/TOSHIBA-21/H1-red/RS4/processed_audio/audio_csv/2019-12-09 to: /Users/maggie/Desktop/HDstorage/H1/H1_AUDIO/H1_RS4_AUDIO/2019-12-09\n",
      "from: /Volumes/TOSHIBA-21/H1-red/RS4/processed_audio/audio_csv/2019-12-10 to: /Users/maggie/Desktop/HDstorage/H1/H1_AUDIO/H1_RS4_AUDIO/2019-12-10\n",
      "from: /Volumes/TOSHIBA-21/H1-red/RS4/processed_audio/audio_csv/2019-12-11 to: /Users/maggie/Desktop/HDstorage/H1/H1_AUDIO/H1_RS4_AUDIO/2019-12-11\n",
      "from: /Volumes/TOSHIBA-21/H1-red/RS4/processed_audio/audio_csv/2019-12-12 to: /Users/maggie/Desktop/HDstorage/H1/H1_AUDIO/H1_RS4_AUDIO/2019-12-12\n",
      "from: /Volumes/TOSHIBA-21/H1-red/RS4/processed_audio/audio_csv/2019-12-13 to: /Users/maggie/Desktop/HDstorage/H1/H1_AUDIO/H1_RS4_AUDIO/2019-12-13\n",
      "from: /Volumes/TOSHIBA-21/H1-red/RS4/processed_audio/audio_csv/2019-12-14 to: /Users/maggie/Desktop/HDstorage/H1/H1_AUDIO/H1_RS4_AUDIO/2019-12-14\n",
      "from: /Volumes/TOSHIBA-21/H1-red/RS4/processed_audio/audio_csv/2019-12-15 to: /Users/maggie/Desktop/HDstorage/H1/H1_AUDIO/H1_RS4_AUDIO/2019-12-15\n",
      "from: /Volumes/TOSHIBA-21/H1-red/RS4/processed_audio/audio_csv/2019-12-16 to: /Users/maggie/Desktop/HDstorage/H1/H1_AUDIO/H1_RS4_AUDIO/2019-12-16\n",
      "from: /Volumes/TOSHIBA-21/H1-red/RS4/processed_audio/audio_csv/2019-12-17 to: /Users/maggie/Desktop/HDstorage/H1/H1_AUDIO/H1_RS4_AUDIO/2019-12-17\n",
      "from: /Volumes/TOSHIBA-21/H1-red/RS4/processed_audio/audio_csv/2019-12-18 to: /Users/maggie/Desktop/HDstorage/H1/H1_AUDIO/H1_RS4_AUDIO/2019-12-18\n",
      "from: /Volumes/TOSHIBA-21/H1-red/RS4/processed_audio/audio_csv/2019-12-19 to: /Users/maggie/Desktop/HDstorage/H1/H1_AUDIO/H1_RS4_AUDIO/2019-12-19\n",
      "from: /Volumes/TOSHIBA-21/H1-red/RS4/processed_audio/audio_csv/2019-12-20 to: /Users/maggie/Desktop/HDstorage/H1/H1_AUDIO/H1_RS4_AUDIO/2019-12-20\n",
      "from: /Volumes/TOSHIBA-21/H1-red/RS4/processed_audio/audio_csv/2019-12-21 to: /Users/maggie/Desktop/HDstorage/H1/H1_AUDIO/H1_RS4_AUDIO/2019-12-21\n",
      "from: /Volumes/TOSHIBA-21/H1-red/RS4/processed_audio/audio_csv/2019-12-22 to: /Users/maggie/Desktop/HDstorage/H1/H1_AUDIO/H1_RS4_AUDIO/2019-12-22\n",
      "from: /Volumes/TOSHIBA-21/H1-red/RS4/processed_audio/audio_csv/2019-12-23 to: /Users/maggie/Desktop/HDstorage/H1/H1_AUDIO/H1_RS4_AUDIO/2019-12-23\n",
      "from: /Volumes/TOSHIBA-21/H1-red/RS4/processed_audio/audio_csv/2019-12-24 to: /Users/maggie/Desktop/HDstorage/H1/H1_AUDIO/H1_RS4_AUDIO/2019-12-24\n",
      "from: /Volumes/TOSHIBA-21/H1-red/RS4/processed_audio/audio_csv/2019-12-25 to: /Users/maggie/Desktop/HDstorage/H1/H1_AUDIO/H1_RS4_AUDIO/2019-12-25\n",
      "/Volumes/TOSHIBA-21/H1-red/RS5\n",
      "RS5 51 30\n",
      "from: /Volumes/TOSHIBA-21/H1-red/RS5/processed_audio/audio_csv/2019-11-26 to: /Users/maggie/Desktop/HDstorage/H1/H1_AUDIO/H1_RS5_AUDIO/2019-11-26\n",
      "from: /Volumes/TOSHIBA-21/H1-red/RS5/processed_audio/audio_csv/2019-11-27 to: /Users/maggie/Desktop/HDstorage/H1/H1_AUDIO/H1_RS5_AUDIO/2019-11-27\n",
      "from: /Volumes/TOSHIBA-21/H1-red/RS5/processed_audio/audio_csv/2019-11-28 to: /Users/maggie/Desktop/HDstorage/H1/H1_AUDIO/H1_RS5_AUDIO/2019-11-28\n",
      "from: /Volumes/TOSHIBA-21/H1-red/RS5/processed_audio/audio_csv/2019-11-29 to: /Users/maggie/Desktop/HDstorage/H1/H1_AUDIO/H1_RS5_AUDIO/2019-11-29\n",
      "from: /Volumes/TOSHIBA-21/H1-red/RS5/processed_audio/audio_csv/2019-11-30 to: /Users/maggie/Desktop/HDstorage/H1/H1_AUDIO/H1_RS5_AUDIO/2019-11-30\n",
      "from: /Volumes/TOSHIBA-21/H1-red/RS5/processed_audio/audio_csv/2019-12-01 to: /Users/maggie/Desktop/HDstorage/H1/H1_AUDIO/H1_RS5_AUDIO/2019-12-01\n",
      "from: /Volumes/TOSHIBA-21/H1-red/RS5/processed_audio/audio_csv/2019-12-02 to: /Users/maggie/Desktop/HDstorage/H1/H1_AUDIO/H1_RS5_AUDIO/2019-12-02\n",
      "from: /Volumes/TOSHIBA-21/H1-red/RS5/processed_audio/audio_csv/2019-12-03 to: /Users/maggie/Desktop/HDstorage/H1/H1_AUDIO/H1_RS5_AUDIO/2019-12-03\n",
      "from: /Volumes/TOSHIBA-21/H1-red/RS5/processed_audio/audio_csv/2019-12-04 to: /Users/maggie/Desktop/HDstorage/H1/H1_AUDIO/H1_RS5_AUDIO/2019-12-04\n",
      "from: /Volumes/TOSHIBA-21/H1-red/RS5/processed_audio/audio_csv/2019-12-05 to: /Users/maggie/Desktop/HDstorage/H1/H1_AUDIO/H1_RS5_AUDIO/2019-12-05\n",
      "from: /Volumes/TOSHIBA-21/H1-red/RS5/processed_audio/audio_csv/2019-12-06 to: /Users/maggie/Desktop/HDstorage/H1/H1_AUDIO/H1_RS5_AUDIO/2019-12-06\n",
      "from: /Volumes/TOSHIBA-21/H1-red/RS5/processed_audio/audio_csv/2019-12-07 to: /Users/maggie/Desktop/HDstorage/H1/H1_AUDIO/H1_RS5_AUDIO/2019-12-07\n",
      "from: /Volumes/TOSHIBA-21/H1-red/RS5/processed_audio/audio_csv/2019-12-08 to: /Users/maggie/Desktop/HDstorage/H1/H1_AUDIO/H1_RS5_AUDIO/2019-12-08\n",
      "from: /Volumes/TOSHIBA-21/H1-red/RS5/processed_audio/audio_csv/2019-12-09 to: /Users/maggie/Desktop/HDstorage/H1/H1_AUDIO/H1_RS5_AUDIO/2019-12-09\n",
      "from: /Volumes/TOSHIBA-21/H1-red/RS5/processed_audio/audio_csv/2019-12-10 to: /Users/maggie/Desktop/HDstorage/H1/H1_AUDIO/H1_RS5_AUDIO/2019-12-10\n",
      "from: /Volumes/TOSHIBA-21/H1-red/RS5/processed_audio/audio_csv/2019-12-11 to: /Users/maggie/Desktop/HDstorage/H1/H1_AUDIO/H1_RS5_AUDIO/2019-12-11\n",
      "from: /Volumes/TOSHIBA-21/H1-red/RS5/processed_audio/audio_csv/2019-12-12 to: /Users/maggie/Desktop/HDstorage/H1/H1_AUDIO/H1_RS5_AUDIO/2019-12-12\n",
      "from: /Volumes/TOSHIBA-21/H1-red/RS5/processed_audio/audio_csv/2019-12-13 to: /Users/maggie/Desktop/HDstorage/H1/H1_AUDIO/H1_RS5_AUDIO/2019-12-13\n",
      "from: /Volumes/TOSHIBA-21/H1-red/RS5/processed_audio/audio_csv/2019-12-14 to: /Users/maggie/Desktop/HDstorage/H1/H1_AUDIO/H1_RS5_AUDIO/2019-12-14\n",
      "from: /Volumes/TOSHIBA-21/H1-red/RS5/processed_audio/audio_csv/2019-12-15 to: /Users/maggie/Desktop/HDstorage/H1/H1_AUDIO/H1_RS5_AUDIO/2019-12-15\n",
      "from: /Volumes/TOSHIBA-21/H1-red/RS5/processed_audio/audio_csv/2019-12-16 to: /Users/maggie/Desktop/HDstorage/H1/H1_AUDIO/H1_RS5_AUDIO/2019-12-16\n",
      "from: /Volumes/TOSHIBA-21/H1-red/RS5/processed_audio/audio_csv/2019-12-17 to: /Users/maggie/Desktop/HDstorage/H1/H1_AUDIO/H1_RS5_AUDIO/2019-12-17\n",
      "from: /Volumes/TOSHIBA-21/H1-red/RS5/processed_audio/audio_csv/2019-12-18 to: /Users/maggie/Desktop/HDstorage/H1/H1_AUDIO/H1_RS5_AUDIO/2019-12-18\n",
      "from: /Volumes/TOSHIBA-21/H1-red/RS5/processed_audio/audio_csv/2019-12-19 to: /Users/maggie/Desktop/HDstorage/H1/H1_AUDIO/H1_RS5_AUDIO/2019-12-19\n",
      "from: /Volumes/TOSHIBA-21/H1-red/RS5/processed_audio/audio_csv/2019-12-20 to: /Users/maggie/Desktop/HDstorage/H1/H1_AUDIO/H1_RS5_AUDIO/2019-12-20\n",
      "from: /Volumes/TOSHIBA-21/H1-red/RS5/processed_audio/audio_csv/2019-12-21 to: /Users/maggie/Desktop/HDstorage/H1/H1_AUDIO/H1_RS5_AUDIO/2019-12-21\n",
      "from: /Volumes/TOSHIBA-21/H1-red/RS5/processed_audio/audio_csv/2019-12-22 to: /Users/maggie/Desktop/HDstorage/H1/H1_AUDIO/H1_RS5_AUDIO/2019-12-22\n",
      "from: /Volumes/TOSHIBA-21/H1-red/RS5/processed_audio/audio_csv/2019-12-23 to: /Users/maggie/Desktop/HDstorage/H1/H1_AUDIO/H1_RS5_AUDIO/2019-12-23\n",
      "from: /Volumes/TOSHIBA-21/H1-red/RS5/processed_audio/audio_csv/2019-12-24 to: /Users/maggie/Desktop/HDstorage/H1/H1_AUDIO/H1_RS5_AUDIO/2019-12-24\n",
      "from: /Volumes/TOSHIBA-21/H1-red/RS5/processed_audio/audio_csv/2019-12-25 to: /Users/maggie/Desktop/HDstorage/H1/H1_AUDIO/H1_RS5_AUDIO/2019-12-25\n"
     ]
    }
   ],
   "source": [
    "\n",
    "for hub_path in hub_paths:\n",
    "    print(hub_path)\n",
    "    hub = os.path.basename(hub_path.strip('/'))\n",
    "    day_dirs = glob(os.path.join(hub_path, 'processed_audio', 'audio_csv', '2019-*'))\n",
    "    copy_dirs = [d for d in day_dirs if os.path.basename(d) in all_days]\n",
    "    print(hub, len(day_dirs), len(copy_dirs))\n",
    "    target_dir = make_storage_directory(os.path.join(save_path, home, f'{home}_AUDIO', f'{home}_{hub}_AUDIO'))\n",
    "    for c_dir in copy_dirs:\n",
    "        date = os.path.basename(c_dir)\n",
    "        fname = os.path.join(target_dir, date)\n",
    "        print(f'from: {c_dir} to: {fname}')\n",
    "        shutil.copytree(c_dir, fname)"
   ]
  },
  {
   "cell_type": "markdown",
   "metadata": {},
   "source": [
    "### 2. Compress audio files to harddrive"
   ]
  },
  {
   "cell_type": "code",
   "execution_count": 178,
   "metadata": {
    "collapsed": true,
    "jupyter": {
     "outputs_hidden": true
    }
   },
   "outputs": [
    {
     "name": "stdout",
     "output_type": "stream",
     "text": [
      "from: /Users/maggie/Desktop/HDstorage/H4/H4_AUDIO/H4_RS1_AUDIO to: /Volumes/SAMSUNG-4/H4/H4_AUDIO/H4_RS1_AUDIO\n"
     ]
    },
    {
     "data": {
      "text/plain": [
       "'/Volumes/SAMSUNG-4/H4/H4_AUDIO/H4_RS1_AUDIO.zip'"
      ]
     },
     "execution_count": 178,
     "metadata": {},
     "output_type": "execute_result"
    }
   ],
   "source": [
    "# # Compressing \n",
    "\n",
    "# comp_fname =  os.path.join(f'{home}_AUDIO', f'{home}_RS1_AUDIO')\n",
    "# to_compress = os.path.join(save_path, home, comp_fname)\n",
    "# destination = os.path.join(dest, home, comp_fname)\n",
    "# print(f'from: {to_compress} to: {destination}')\n",
    "# shutil.make_archive(destination, 'zip', to_compress)\n",
    "# # print('done compressing ', destination)"
   ]
  },
  {
   "cell_type": "code",
   "execution_count": 62,
   "metadata": {},
   "outputs": [
    {
     "name": "stdout",
     "output_type": "stream",
     "text": [
      "from: /Users/maggie/Desktop/HDstorage/H1/H1_AUDIO to: /Volumes/SAMSUNG-4/H1/H1_AUDIO\n",
      "from: /Users/maggie/Desktop/HDstorage/H1/H1_ENVIRONMENTAL to: /Volumes/SAMSUNG-4/H1/H1_ENVIRONMENTAL\n"
     ]
    },
    {
     "data": {
      "text/plain": [
       "'/Volumes/SAMSUNG-4/H1/H1_ENVIRONMENTAL.zip'"
      ]
     },
     "execution_count": 62,
     "metadata": {},
     "output_type": "execute_result"
    }
   ],
   "source": [
    "\n",
    "to_compress = os.path.join(local_save_path, home, f'{home}_AUDIO')\n",
    "destination = os.path.join(dest_for_compressed, home, os.path.basename(to_compress.strip('/')))\n",
    "\n",
    "print(f'from: {to_compress} to: {destination}')\n",
    "shutil.make_archive(destination, 'zip', to_compress)\n",
    "\n",
    "\n",
    "# to_compress = os.path.join(directory_path, home, f'{home}_ENVIRONMENTAL')\n",
    "# destination = os.path.join(dest_for_compressed, home, os.path.basename(to_compress.strip('/')))\n",
    "\n",
    "# print(f'from: {to_compress} to: {destination}')\n",
    "# shutil.make_archive(destination, 'zip', to_compress)\n"
   ]
  },
  {
   "cell_type": "markdown",
   "metadata": {},
   "source": [
    "***\n",
    "## D. Environmental\n",
    "1. Copy over to 'local_save_path`. Also need to change filename to match conventions\n",
    "2. Compress the final folder with all hubs to `dest_for_compressed`."
   ]
  },
  {
   "cell_type": "markdown",
   "metadata": {},
   "source": [
    "### 1. Copy while changing names to match other conventions"
   ]
  },
  {
   "cell_type": "code",
   "execution_count": 58,
   "metadata": {},
   "outputs": [
    {
     "name": "stdout",
     "output_type": "stream",
     "text": [
      "RS1 52 30\n",
      "/Users/maggie/Desktop/HDstorage/H1/H1_ENVIRONMENTAL/H1_RS1_ENV\n",
      "RS2 52 30\n",
      "/Users/maggie/Desktop/HDstorage/H1/H1_ENVIRONMENTAL/H1_RS2_ENV\n",
      "RS3 52 30\n",
      "/Users/maggie/Desktop/HDstorage/H1/H1_ENVIRONMENTAL/H1_RS3_ENV\n",
      "RS4 52 30\n",
      "/Users/maggie/Desktop/HDstorage/H1/H1_ENVIRONMENTAL/H1_RS4_ENV\n",
      "RS5 52 30\n",
      "/Users/maggie/Desktop/HDstorage/H1/H1_ENVIRONMENTAL/H1_RS5_ENV\n"
     ]
    }
   ],
   "source": [
    "\n",
    "\n",
    "for hub_path in hub_paths:\n",
    "    hub = os.path.basename(hub_path.strip('/'))\n",
    "    day_files = glob(os.path.join(hub_path, 'processed_env', 'CSV-raw', '*.csv'))\n",
    "    copy_files = [f for f in day_files if os.path.basename(f).split('_')[2].rstrip('.csv') in all_days]\n",
    "    print(hub, len(day_files), len(copy_files))\n",
    "    target_dir = make_storage_directory(os.path.join(save_path, home, f'{home}_ENVIRONMENTAL', f'{home}_{hub}_ENV'))\n",
    "    print(target_dir)\n",
    "    for f in copy_files:\n",
    "        date = os.path.basename(f).split('_')[2].rstrip('.csv')\n",
    "        fname = os.path.join(target_dir, f'{date}_{hub}_{home}_env.csv')\n",
    "        shutil.copy(f, fname)\n"
   ]
  },
  {
   "cell_type": "markdown",
   "metadata": {},
   "source": [
    "### 2. Compress env to harddrive"
   ]
  },
  {
   "cell_type": "code",
   "execution_count": 59,
   "metadata": {},
   "outputs": [
    {
     "name": "stdout",
     "output_type": "stream",
     "text": [
      "from: /Users/maggie/Desktop/HDstorage/H1/H1_ENVIRONMENTAL to: /Volumes/SAMSUNG-4/H1/H1_ENVIRONMENTAL\n"
     ]
    }
   ],
   "source": [
    "directory_path = '/Users/maggie/Desktop/HDstorage'\n",
    "\n",
    "to_path = make_storage_directory(os.path.join(dest, home))\n",
    "\n",
    "to_compress = os.path.join(directory_path, home, f'{home}_ENVIRONMENTAL')\n",
    "destination = os.path.join(to_path, os.path.basename(to_compress.strip('/')))\n",
    "\n",
    "print(f'from: {to_compress} to: {destination}')\n",
    "# shutil.make_archive(destination, 'zip', to_compress)"
   ]
  },
  {
   "cell_type": "markdown",
   "metadata": {},
   "source": [
    "***\n",
    "## E. Ground Truth\n",
    "Final ground truth files, stored as csv, should be in form:  \n",
    "`HOME_GROUNDTRUTH.zip/date/date_home_groundtruth.csv` <br>\n",
    "\n",
    "1. Copy the day-wise ground truth files (stored in `hub_path`) to `local_save_path`. \n",
    "2. Compress the final folder with all hubs to `dest_for_compressed`."
   ]
  },
  {
   "cell_type": "markdown",
   "metadata": {},
   "source": [
    "### 1. Copy over relevant days"
   ]
  },
  {
   "cell_type": "code",
   "execution_count": 42,
   "metadata": {},
   "outputs": [
    {
     "name": "stdout",
     "output_type": "stream",
     "text": [
      "30\n",
      "/Volumes/TOSHIBA-21/H1-red/GroundTruth/GroundTruth/2019-11-26_H1_groundtruth.csv /Users/maggie/Desktop/HDstorage/H1/H1_GROUNDTRUTH/2019-11-26_H1_groundtruth.csv\n",
      "/Volumes/TOSHIBA-21/H1-red/GroundTruth/GroundTruth/2019-11-27_H1_groundtruth.csv /Users/maggie/Desktop/HDstorage/H1/H1_GROUNDTRUTH/2019-11-27_H1_groundtruth.csv\n",
      "/Volumes/TOSHIBA-21/H1-red/GroundTruth/GroundTruth/2019-11-28_H1_groundtruth.csv /Users/maggie/Desktop/HDstorage/H1/H1_GROUNDTRUTH/2019-11-28_H1_groundtruth.csv\n",
      "/Volumes/TOSHIBA-21/H1-red/GroundTruth/GroundTruth/2019-11-29_H1_groundtruth.csv /Users/maggie/Desktop/HDstorage/H1/H1_GROUNDTRUTH/2019-11-29_H1_groundtruth.csv\n",
      "/Volumes/TOSHIBA-21/H1-red/GroundTruth/GroundTruth/2019-11-30_H1_groundtruth.csv /Users/maggie/Desktop/HDstorage/H1/H1_GROUNDTRUTH/2019-11-30_H1_groundtruth.csv\n",
      "/Volumes/TOSHIBA-21/H1-red/GroundTruth/GroundTruth/2019-12-01_H1_groundtruth.csv /Users/maggie/Desktop/HDstorage/H1/H1_GROUNDTRUTH/2019-12-01_H1_groundtruth.csv\n",
      "/Volumes/TOSHIBA-21/H1-red/GroundTruth/GroundTruth/2019-12-02_H1_groundtruth.csv /Users/maggie/Desktop/HDstorage/H1/H1_GROUNDTRUTH/2019-12-02_H1_groundtruth.csv\n",
      "/Volumes/TOSHIBA-21/H1-red/GroundTruth/GroundTruth/2019-12-03_H1_groundtruth.csv /Users/maggie/Desktop/HDstorage/H1/H1_GROUNDTRUTH/2019-12-03_H1_groundtruth.csv\n",
      "/Volumes/TOSHIBA-21/H1-red/GroundTruth/GroundTruth/2019-12-04_H1_groundtruth.csv /Users/maggie/Desktop/HDstorage/H1/H1_GROUNDTRUTH/2019-12-04_H1_groundtruth.csv\n",
      "/Volumes/TOSHIBA-21/H1-red/GroundTruth/GroundTruth/2019-12-05_H1_groundtruth.csv /Users/maggie/Desktop/HDstorage/H1/H1_GROUNDTRUTH/2019-12-05_H1_groundtruth.csv\n",
      "/Volumes/TOSHIBA-21/H1-red/GroundTruth/GroundTruth/2019-12-06_H1_groundtruth.csv /Users/maggie/Desktop/HDstorage/H1/H1_GROUNDTRUTH/2019-12-06_H1_groundtruth.csv\n",
      "/Volumes/TOSHIBA-21/H1-red/GroundTruth/GroundTruth/2019-12-07_H1_groundtruth.csv /Users/maggie/Desktop/HDstorage/H1/H1_GROUNDTRUTH/2019-12-07_H1_groundtruth.csv\n",
      "/Volumes/TOSHIBA-21/H1-red/GroundTruth/GroundTruth/2019-12-08_H1_groundtruth.csv /Users/maggie/Desktop/HDstorage/H1/H1_GROUNDTRUTH/2019-12-08_H1_groundtruth.csv\n",
      "/Volumes/TOSHIBA-21/H1-red/GroundTruth/GroundTruth/2019-12-09_H1_groundtruth.csv /Users/maggie/Desktop/HDstorage/H1/H1_GROUNDTRUTH/2019-12-09_H1_groundtruth.csv\n",
      "/Volumes/TOSHIBA-21/H1-red/GroundTruth/GroundTruth/2019-12-10_H1_groundtruth.csv /Users/maggie/Desktop/HDstorage/H1/H1_GROUNDTRUTH/2019-12-10_H1_groundtruth.csv\n",
      "/Volumes/TOSHIBA-21/H1-red/GroundTruth/GroundTruth/2019-12-11_H1_groundtruth.csv /Users/maggie/Desktop/HDstorage/H1/H1_GROUNDTRUTH/2019-12-11_H1_groundtruth.csv\n",
      "/Volumes/TOSHIBA-21/H1-red/GroundTruth/GroundTruth/2019-12-12_H1_groundtruth.csv /Users/maggie/Desktop/HDstorage/H1/H1_GROUNDTRUTH/2019-12-12_H1_groundtruth.csv\n",
      "/Volumes/TOSHIBA-21/H1-red/GroundTruth/GroundTruth/2019-12-13_H1_groundtruth.csv /Users/maggie/Desktop/HDstorage/H1/H1_GROUNDTRUTH/2019-12-13_H1_groundtruth.csv\n",
      "/Volumes/TOSHIBA-21/H1-red/GroundTruth/GroundTruth/2019-12-14_H1_groundtruth.csv /Users/maggie/Desktop/HDstorage/H1/H1_GROUNDTRUTH/2019-12-14_H1_groundtruth.csv\n",
      "/Volumes/TOSHIBA-21/H1-red/GroundTruth/GroundTruth/2019-12-15_H1_groundtruth.csv /Users/maggie/Desktop/HDstorage/H1/H1_GROUNDTRUTH/2019-12-15_H1_groundtruth.csv\n",
      "/Volumes/TOSHIBA-21/H1-red/GroundTruth/GroundTruth/2019-12-16_H1_groundtruth.csv /Users/maggie/Desktop/HDstorage/H1/H1_GROUNDTRUTH/2019-12-16_H1_groundtruth.csv\n",
      "/Volumes/TOSHIBA-21/H1-red/GroundTruth/GroundTruth/2019-12-17_H1_groundtruth.csv /Users/maggie/Desktop/HDstorage/H1/H1_GROUNDTRUTH/2019-12-17_H1_groundtruth.csv\n",
      "/Volumes/TOSHIBA-21/H1-red/GroundTruth/GroundTruth/2019-12-18_H1_groundtruth.csv /Users/maggie/Desktop/HDstorage/H1/H1_GROUNDTRUTH/2019-12-18_H1_groundtruth.csv\n",
      "/Volumes/TOSHIBA-21/H1-red/GroundTruth/GroundTruth/2019-12-19_H1_groundtruth.csv /Users/maggie/Desktop/HDstorage/H1/H1_GROUNDTRUTH/2019-12-19_H1_groundtruth.csv\n",
      "/Volumes/TOSHIBA-21/H1-red/GroundTruth/GroundTruth/2019-12-20_H1_groundtruth.csv /Users/maggie/Desktop/HDstorage/H1/H1_GROUNDTRUTH/2019-12-20_H1_groundtruth.csv\n",
      "/Volumes/TOSHIBA-21/H1-red/GroundTruth/GroundTruth/2019-12-21_H1_groundtruth.csv /Users/maggie/Desktop/HDstorage/H1/H1_GROUNDTRUTH/2019-12-21_H1_groundtruth.csv\n",
      "/Volumes/TOSHIBA-21/H1-red/GroundTruth/GroundTruth/2019-12-22_H1_groundtruth.csv /Users/maggie/Desktop/HDstorage/H1/H1_GROUNDTRUTH/2019-12-22_H1_groundtruth.csv\n",
      "/Volumes/TOSHIBA-21/H1-red/GroundTruth/GroundTruth/2019-12-23_H1_groundtruth.csv /Users/maggie/Desktop/HDstorage/H1/H1_GROUNDTRUTH/2019-12-23_H1_groundtruth.csv\n",
      "/Volumes/TOSHIBA-21/H1-red/GroundTruth/GroundTruth/2019-12-24_H1_groundtruth.csv /Users/maggie/Desktop/HDstorage/H1/H1_GROUNDTRUTH/2019-12-24_H1_groundtruth.csv\n",
      "/Volumes/TOSHIBA-21/H1-red/GroundTruth/GroundTruth/2019-12-25_H1_groundtruth.csv /Users/maggie/Desktop/HDstorage/H1/H1_GROUNDTRUTH/2019-12-25_H1_groundtruth.csv\n"
     ]
    }
   ],
   "source": [
    "day_files = glob(os.path.join(from_path, 'GroundTruth/GroundTruth', '*_groundtruth.csv'))\n",
    "\n",
    "copy_files = [f for f in day_files if os.path.basename(f).split('_')[0] in all_days]\n",
    "save_loc = make_storage_directory(os.path.join(save_path, home, f'{home}_GROUNDTRUTH'))\n",
    "print(len(copy_files))\n",
    "\n",
    "for f in copy_files:\n",
    "    dest_fname = os.path.join(save_loc, os.path.basename(f))\n",
    "    print(f, dest_fname)\n",
    "    shutil.copy(f, dest_fname)\n"
   ]
  },
  {
   "cell_type": "markdown",
   "metadata": {},
   "source": [
    "### 2. Compress all days"
   ]
  },
  {
   "cell_type": "code",
   "execution_count": 44,
   "metadata": {},
   "outputs": [
    {
     "name": "stdout",
     "output_type": "stream",
     "text": [
      "from: /Users/maggie/Desktop/HDstorage/H1/H1_GROUNDTRUTH to: /Volumes/SAMSUNG-4/H1/H1_GROUNDTRUTH\n"
     ]
    },
    {
     "data": {
      "text/plain": [
       "'/Volumes/SAMSUNG-4/H1/H1_GROUNDTRUTH.zip'"
      ]
     },
     "execution_count": 44,
     "metadata": {},
     "output_type": "execute_result"
    }
   ],
   "source": [
    "directory_path = '/Users/maggie/Desktop/HDstorage'\n",
    "\n",
    "to_path = make_storage_directory(os.path.join(dest, home))\n",
    "\n",
    "to_compress = os.path.join(directory_path, home, f'{home}_GROUNDTRUTH')\n",
    "destination = os.path.join(to_path, os.path.basename(to_compress.strip('/')))\n",
    "\n",
    "print(f'from: {to_compress} to: {destination}')\n",
    "shutil.make_archive(destination, 'zip', to_compress)\n"
   ]
  },
  {
   "cell_type": "markdown",
   "metadata": {},
   "source": [
    "***\n",
    "### H2 - dark image investigation"
   ]
  },
  {
   "cell_type": "code",
   "execution_count": null,
   "metadata": {},
   "outputs": [],
   "source": [
    "import pandas as pd"
   ]
  },
  {
   "cell_type": "code",
   "execution_count": 32,
   "metadata": {},
   "outputs": [
    {
     "name": "stdout",
     "output_type": "stream",
     "text": [
      "['/Volumes/TOSHIBA-22/H2-red/Summaries/H2-RS1-img-summary.txt', '/Volumes/TOSHIBA-22/H2-red/Summaries/H2-RS2-img-summary.txt', '/Volumes/TOSHIBA-22/H2-red/Summaries/H2-RS4-img-summary.txt', '/Volumes/TOSHIBA-22/H2-red/Summaries/H2-RS5-img-summary.txt']\n",
      "            RS1_Capt  RS1_Dark  RS1_Img  RS2_Capt  RS2_Dark  RS2_Img  \\\n",
      "2019-03-01       NaN       NaN      NaN      0.27      0.00      NaN   \n",
      "2019-03-02       NaN       NaN      NaN      1.00      0.21      NaN   \n",
      "2019-03-03       NaN       NaN      NaN      1.00      0.09      NaN   \n",
      "2019-03-04       NaN       NaN      NaN      1.00      0.48      NaN   \n",
      "2019-03-05       NaN       NaN      NaN      1.00      0.25      NaN   \n",
      "2019-03-06       NaN       NaN      NaN      1.00      0.25      NaN   \n",
      "2019-03-07       NaN       NaN      NaN      1.00      0.20      NaN   \n",
      "2019-03-08       NaN       NaN      NaN      1.00      0.00      NaN   \n",
      "2019-03-09       NaN       NaN      NaN      1.00      0.21      NaN   \n",
      "2019-03-10       NaN       NaN      NaN      0.96      0.17      NaN   \n",
      "2019-03-11       NaN       NaN      NaN      0.52      0.21      NaN   \n",
      "2019-03-12      0.09      0.09      NaN      0.26      0.00      NaN   \n",
      "2019-03-13      0.88      0.25     0.75      1.00      0.22     0.78   \n",
      "2019-03-14      0.96      0.37     0.63      1.00      0.35     0.65   \n",
      "2019-03-15      1.00      0.37     0.63      1.00      0.35     0.65   \n",
      "2019-03-16      1.00      0.30     0.70      1.00      0.29     0.71   \n",
      "2019-03-17      1.00      0.32     0.68      1.00      0.20     0.80   \n",
      "2019-03-18      1.00      0.44     0.56      1.00      0.23     0.77   \n",
      "2019-03-19      1.00      0.30     0.70      1.00      0.04     0.96   \n",
      "2019-03-20      1.00      0.40     0.60      1.00      0.35     0.65   \n",
      "2019-03-21      1.00      0.49     0.51      1.00      0.47     0.53   \n",
      "2019-03-22      1.00      0.29     0.71      1.00      0.27     0.73   \n",
      "2019-03-23      1.00      0.14     0.86      1.00      0.13     0.87   \n",
      "2019-03-24      1.00      0.09     0.91      1.00      0.00     1.00   \n",
      "2019-03-25      1.00      0.40     0.60      1.00      0.17     0.83   \n",
      "2019-03-26      0.99      0.23     0.76      0.93      0.17     0.76   \n",
      "2019-03-27      1.00      0.11     0.89      1.00      0.09     0.91   \n",
      "2019-03-28      1.00      0.24     0.76      1.00      0.23     0.77   \n",
      "2019-03-29      1.00      0.44     0.56      0.66      0.25     0.41   \n",
      "2019-03-30      1.00      0.24      NaN      0.26      0.07      NaN   \n",
      "2019-03-31      1.00      0.14      NaN      0.18      0.02      NaN   \n",
      "2019-04-01      1.00      0.20      NaN      0.17      0.03      NaN   \n",
      "2019-04-02      0.83      0.15      NaN      0.16      0.02      NaN   \n",
      "\n",
      "            RS4_Capt  RS4_Dark  RS4_Img  RS5_Capt  RS5_Dark  RS5_Img  \n",
      "2019-03-01      0.20       0.0      NaN       NaN       NaN      NaN  \n",
      "2019-03-02       NaN       NaN      NaN       NaN       NaN      NaN  \n",
      "2019-03-03       NaN       NaN      NaN       NaN       NaN      NaN  \n",
      "2019-03-04       NaN       NaN      NaN       NaN       NaN      NaN  \n",
      "2019-03-05       NaN       NaN      NaN       NaN       NaN      NaN  \n",
      "2019-03-06       NaN       NaN      NaN       NaN       NaN      NaN  \n",
      "2019-03-07       NaN       NaN      NaN      1.00      0.20      NaN  \n",
      "2019-03-08       NaN       NaN      NaN      1.00      0.00      NaN  \n",
      "2019-03-09       NaN       NaN      NaN      1.00      0.20      NaN  \n",
      "2019-03-10       NaN       NaN      NaN      0.96      0.16      NaN  \n",
      "2019-03-11       NaN       NaN      NaN      0.52      0.20      NaN  \n",
      "2019-03-12      0.26       0.0      NaN      0.20      0.00      NaN  \n",
      "2019-03-13      1.00       0.0     1.00      1.00      0.24     0.76  \n",
      "2019-03-14      1.00       0.0     1.00      1.00      0.35     0.65  \n",
      "2019-03-15      1.00       0.0     1.00      1.00      0.35     0.65  \n",
      "2019-03-16      1.00       0.0     1.00      1.00      0.29     0.71  \n",
      "2019-03-17      1.00       0.0     1.00      1.00      0.20     0.80  \n",
      "2019-03-18      1.00       0.0     1.00      1.00      0.23     0.77  \n",
      "2019-03-19      1.00       0.0     1.00      1.00      0.04     0.96  \n",
      "2019-03-20      1.00       0.0     1.00      1.00      0.35     0.65  \n",
      "2019-03-21      1.00       0.0     1.00      1.00      0.47     0.53  \n",
      "2019-03-22      1.00       0.0     1.00      1.00      0.27     0.73  \n",
      "2019-03-23      1.00       0.0     1.00      1.00      0.13     0.87  \n",
      "2019-03-24      1.00       0.0     1.00      1.00      0.00     1.00  \n",
      "2019-03-25      1.00       0.0     1.00      1.00      0.17     0.83  \n",
      "2019-03-26      0.99       0.0     0.99      0.98      0.18     0.80  \n",
      "2019-03-27      1.00       0.0     1.00      1.00      0.10     0.90  \n",
      "2019-03-28      1.00       0.0     1.00      1.00      0.22     0.78  \n",
      "2019-03-29      1.00       0.0     1.00      1.00      0.35     0.65  \n",
      "2019-03-30      1.00       0.0      NaN      1.00      0.23      NaN  \n",
      "2019-03-31      1.00       0.0      NaN      1.00      0.12      NaN  \n",
      "2019-04-01      1.00       0.0      NaN      1.00      0.19      NaN  \n",
      "2019-04-02      0.84       0.0      NaN      0.84      0.13      NaN  \n"
     ]
    }
   ],
   "source": [
    "summaries = glob('/Volumes/TOSHIBA-22/H2-red/Summaries/*-img-summary.txt')\n",
    "print(summaries)\n",
    "\n",
    "img_csv_summary = '/Users/maggie/Desktop/image_df_counts.csv'\n",
    "\n",
    "summary_df = pd.read_csv(img_csv_summary, index_col='Unnamed: 0')\n",
    "\n",
    "hub_dfs = []\n",
    "for txtfile in summaries:\n",
    "    txt_df = pd.read_csv(txtfile, delimiter=' ', usecols=['day', '%Capt', '%Dark'], index_col='day')\n",
    "#     print(txt_df.columns)\n",
    "    hub = os.path.basename(txtfile).split('-')[1]\n",
    "#     print(hub)\n",
    "    col_names = [f'{hub}_Capt', f'{hub}_Dark']\n",
    "    txt_df.columns = col_names\n",
    "    hub_dfs.append(txt_df)\n",
    "\n",
    "hub_dfs.append(summary_df)\n",
    "all_df = pd.concat(hub_dfs, axis=1)\n",
    "all_df = all_df.reindex(sorted(all_df.columns), axis=1)\n",
    "all_df = all_df.sort_index(axis=0)\n",
    "print(all_df)\n",
    "\n",
    "all_df.to_csv('/Users/maggie/Desktop/H2_all_images_summary.csv')\n",
    "    \n",
    "    "
   ]
  }
 ],
 "metadata": {
  "kernelspec": {
   "display_name": "Python 3",
   "language": "python",
   "name": "python3"
  },
  "language_info": {
   "codemirror_mode": {
    "name": "ipython",
    "version": 3
   },
   "file_extension": ".py",
   "mimetype": "text/x-python",
   "name": "python",
   "nbconvert_exporter": "python",
   "pygments_lexer": "ipython3",
   "version": "3.7.4"
  }
 },
 "nbformat": 4,
 "nbformat_minor": 4
}
